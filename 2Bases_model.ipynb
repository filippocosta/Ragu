{
 "cells": [
  {
   "cell_type": "markdown",
   "metadata": {},
   "source": [
    "## Expansion modification system - 2 bases"
   ]
  },
  {
   "cell_type": "markdown",
   "metadata": {},
   "source": [
    "### DNA Sequence generation"
   ]
  },
  {
   "cell_type": "code",
   "execution_count": 93,
   "metadata": {},
   "outputs": [],
   "source": [
    "import os\n",
    "import pandas as pd\n",
    "import seaborn as sns\n",
    "import matplotlib.pyplot as plt\n",
    "from scipy import stats\n",
    "from scipy.sparse import csr_matrix\n",
    "import subprocess\n",
    "import numpy as np\n",
    "from Bio import SeqIO\n",
    "\n",
    "import tensorflow as tf\n",
    "\n",
    "from tensorflow.keras.preprocessing.text import Tokenizer\n",
    "from tensorflow.keras.preprocessing.sequence import pad_sequences\n",
    "from sklearn.feature_extraction.text import CountVectorizer\n",
    "from sklearn.feature_extraction.text import TfidfTransformer\n",
    "\n",
    "import warnings\n",
    "warnings.filterwarnings('ignore')\n",
    "\n",
    "from sklearn.model_selection import train_test_split\n",
    "\n",
    "from tensorflow.keras.models import Sequential\n",
    "from tensorflow.keras.callbacks import ModelCheckpoint\n",
    "from tensorflow.keras.optimizers import SGD, Adam, Adadelta, RMSprop\n",
    "from tensorflow.keras.layers import Conv1D, Dense, MaxPooling1D, Flatten, Dropout\n",
    "from tensorflow.keras.layers import Embedding, GlobalAveragePooling1D, LSTM, SimpleRNN, GRU, Bidirectional\n",
    "\n",
    "from sklearn.metrics import confusion_matrix\n",
    "import itertools"
   ]
  },
  {
   "cell_type": "code",
   "execution_count": 2,
   "metadata": {},
   "outputs": [],
   "source": [
    "def DNA_gen(N0, N, Pmut, g, M = 0):\n",
    "    print('Pmut: ', Pmut)\n",
    "    DNA = list(np.random.randint(0,2, size = N0)) \n",
    "    limit = [0,g,1]\n",
    "    base = [1,0]\n",
    "    print(limit)\n",
    "    while (len(DNA) != N):\n",
    "        j = np.random.randint(0,len(DNA))\n",
    "        nuc = DNA[j]\n",
    "        p = np.random.random()\n",
    "        if(p>Pmut):\n",
    "            DNA.insert(j+1, nuc)\n",
    "        else:\n",
    "            if(False):\n",
    "                pg = np.random.random()\n",
    "                v = np.array(limit)-pg\n",
    "                v[v<0] = 1\n",
    "                idx = np.argmin(v)\n",
    "                DNA[j] = base[idx-1]\n",
    "            if(nuc==1):\n",
    "                DNA[j] = 0\n",
    "            else: DNA[j] = 1\n",
    "    count = 0\n",
    "    while(count != M):\n",
    "        j = np.random.randint(0,len(DNA))\n",
    "        pg = np.random.random()\n",
    "        v = np.array(limit)-pg\n",
    "        v[v<0] = 1\n",
    "        idx = np.argmin(v)\n",
    "        DNA[j] = base[idx-1]\n",
    "        count += 1\n",
    "\n",
    "    return DNA"
   ]
  },
  {
   "cell_type": "code",
   "execution_count": 4,
   "metadata": {},
   "outputs": [],
   "source": [
    "def Corr(s,r,alphabet):\n",
    "    bases = ['A','C']\n",
    "    C = 0\n",
    "    freq = 0\n",
    "    s1 = s[:-r]\n",
    "    s2 = s[r:]\n",
    "    long_dist = np.equal(s1,s2)\n",
    "    long_dist = np.sum([int(long_dist[i]) for i in range(len(long_dist))])/len(long_dist)\n",
    "    for i in bases:\n",
    "        freq += (alphabet[i][0]/len(s))**2\n",
    "    C = long_dist -freq\n",
    "    return C"
   ]
  },
  {
   "cell_type": "code",
   "execution_count": 5,
   "metadata": {},
   "outputs": [],
   "source": [
    "def smooth(y, box_pts):\n",
    "        box = np.ones(box_pts)/box_pts\n",
    "        y_smooth = np.convolve(y, box, mode='same')\n",
    "        return y_smooth\n",
    "def scaling(x,a,c):\n",
    "    return c*x**(-a)"
   ]
  },
  {
   "cell_type": "markdown",
   "metadata": {},
   "source": [
    "### Sequence Generation"
   ]
  },
  {
   "cell_type": "code",
   "execution_count": 6,
   "metadata": {},
   "outputs": [
    {
     "name": "stdout",
     "output_type": "stream",
     "text": [
      "**Human**\n",
      "Pmut:  0.1\n",
      "[0, 0.4, 1]\n",
      "**Neanderthal**\n",
      "Pmut:  0.12\n",
      "[0, 0.4, 1]\n"
     ]
    }
   ],
   "source": [
    "N = 5000000\n",
    "N0 = 1\n",
    "\n",
    "print('**Human**')\n",
    "human2 = DNA_gen(N0,N,0.10,0.4, M = int(N/3))\n",
    "\n",
    "print('**Neanderthal**')\n",
    "neanderthal2 = DNA_gen(N0,N,0.12,0.4, M = int(N/6))"
   ]
  },
  {
   "cell_type": "code",
   "execution_count": 7,
   "metadata": {},
   "outputs": [],
   "source": [
    "change = {0:['A'], 1:['C']}\n",
    "N_DNA2 = []\n",
    "H_DNA2 = []\n",
    "for i in range(N):\n",
    "    N_DNA2.append(change[human2[i]][0])\n",
    "    H_DNA2.append(change[neanderthal2[i]][0])"
   ]
  },
  {
   "cell_type": "code",
   "execution_count": 8,
   "metadata": {},
   "outputs": [
    {
     "name": "stdout",
     "output_type": "stream",
     "text": [
      "**Human**\n",
      "{'A': [2482016], 'C': [2517984]}\n",
      "GC-content:  0.5035968\n",
      "**Neanderthal**\n",
      "{'A': [2618255], 'C': [2381745]}\n",
      "GC-content:  0.476349\n"
     ]
    }
   ],
   "source": [
    "human_alphabet2 = {'A':[0], 'C':[0]}\n",
    "neanderthal_alphabet2 = {'A':[0], 'C':[0]}\n",
    "for (i,j) in zip(H_DNA2,N_DNA2):\n",
    "    human_alphabet2[i][0] += 1\n",
    "    neanderthal_alphabet2[j][0] += 1\n",
    "    \n",
    "print('**Human**')\n",
    "print(human_alphabet2)\n",
    "print('GC-content: ',(human_alphabet2['C'][0]#+human_alphabet['G'][0]\n",
    "                     )/len(H_DNA2))\n",
    "\n",
    "print('**Neanderthal**')\n",
    "print(neanderthal_alphabet2)\n",
    "print('GC-content: ',(neanderthal_alphabet2['C'][0]\n",
    "                      #+neanderthal_alphabet['G'][0]\n",
    "                     )/len(N_DNA2))"
   ]
  },
  {
   "cell_type": "code",
   "execution_count": 108,
   "metadata": {},
   "outputs": [
    {
     "name": "stdout",
     "output_type": "stream",
     "text": [
      "C[H]: 0.2272081990841874\n",
      "G[H]: 0.43267001061430865\n",
      "C[N]: 0.34988264488625825\n",
      "G[N]: 0.5832441197389489\n"
     ]
    },
    {
     "data": {
      "image/png": "[encoded data removed]",
      "text/plain": [
       "<Figure size 432x288 with 1 Axes>"
      ]
     },
     "metadata": {
      "needs_background": "light"
     },
     "output_type": "display_data"
    }
   ],
   "source": [
    "r = np.linspace(10,100,100)\n",
    "n = 5\n",
    "m = 5\n",
    "\n",
    "cr_H2 = [Corr(human2,int(ri),human_alphabet2) for ri in r]\n",
    "cr_H2 = smooth(cr_H2,10)\n",
    "\n",
    "cr_N2 = [Corr(neanderthal2,int(ri),neanderthal_alphabet2) for ri in r]\n",
    "cr_N2 = smooth(cr_N2,10)\n",
    " \n",
    "\n",
    "gamma_H2 = scipy.optimize.curve_fit(scaling,r[n:-m],cr_H2[n:-m])[0]\n",
    "gamma_N2 = scipy.optimize.curve_fit(scaling,r[n:-m],cr_N2[n:-m])[0]\n",
    "        \n",
    "plt.plot(r[n:-m],cr_H2[n:-m], c = 'red', label = 'Human')\n",
    "#plt.plot(r[n:-m],scaling(r[n:-m],gamma_H2[0],gamma_H2[1]), c = 'black')\n",
    "\n",
    "plt.plot(r[n:-m],cr_N2[n:-m], c = 'green', label = 'Neanderthal')\n",
    "#plt.plot(r[n:-m],scaling(r[n:-m],gamma_N2[0],gamma_N2[1]), c = 'black')\n",
    "\n",
    "print('C[H]:',gamma_H2[1])\n",
    "print('G[H]:',gamma_H2[0])\n",
    "\n",
    "print('C[N]:',gamma_N2[1])\n",
    "print('G[N]:',gamma_N2[0])\n",
    "\n",
    "plt.yscale('log')\n",
    "plt.xscale('log')\n",
    "plt.legend()\n",
    "plt.show()"
   ]
  },
  {
   "cell_type": "code",
   "execution_count": 121,
   "metadata": {},
   "outputs": [
    {
     "data": {
      "image/png": "[encoded data removed]",
      "text/plain": [
       "<Figure size 720x504 with 1 Axes>"
      ]
     },
     "metadata": {
      "needs_background": "light"
     },
     "output_type": "display_data"
    }
   ],
   "source": [
    "plt.figure(figsize = (10,7))\n",
    "plt.plot(r[n:-m],cr_N2[n:-m], '-', color = 'red', markersize = 10, label = 'Introgressed')\n",
    "plt.plot(r[n:-m],cr_H2[n:-m], '-', color = 'steelblue', markersize = 10, label = 'Depleted')\n",
    "plt.xlabel('r', fontsize = 18, labelpad = 15, weight = 'semibold')\n",
    "plt.ylabel('C(r)', fontsize = 18, labelpad = 15, weight = 'semibold')\n",
    "plt.yscale('log')\n",
    "plt.xscale('log')\n",
    "plt.tick_params(labelsize=15,  which='both')\n",
    "plt.legend(fontsize = 'x-large')\n",
    "plt.show()"
   ]
  },
  {
   "cell_type": "markdown",
   "metadata": {},
   "source": [
    "### Write DNA Sequence"
   ]
  },
  {
   "cell_type": "code",
   "execution_count": 10,
   "metadata": {},
   "outputs": [],
   "source": [
    "string = ''\n",
    "with open('human.txt', mode='w') as f:\n",
    "    f.write(string.join(H_DNA2))\n",
    "    f.close()\n",
    "string = ''\n",
    "with open('neanderthal.txt', mode='w') as f:\n",
    "    f.write(string.join(N_DNA2))\n",
    "    f.close()"
   ]
  },
  {
   "cell_type": "markdown",
   "metadata": {},
   "source": [
    "### Divide in Sentences and then in KMers"
   ]
  },
  {
   "cell_type": "code",
   "execution_count": 46,
   "metadata": {},
   "outputs": [],
   "source": [
    "with open('human.txt', mode='r') as f:\n",
    "    H_DNA = f.read().rstrip('\\n')\n",
    "    f.close()\n",
    "with open('neanderthal.txt', mode='r') as f:\n",
    "    N_DNA = f.read().rstrip('\\n')\n",
    "    f.close()"
   ]
  },
  {
   "cell_type": "code",
   "execution_count": 47,
   "metadata": {},
   "outputs": [],
   "source": [
    "H_DNA = [i for i in H_DNA]\n",
    "N_DNA = [i for i in N_DNA]"
   ]
  },
  {
   "cell_type": "code",
   "execution_count": 86,
   "metadata": {},
   "outputs": [],
   "source": [
    "sentence_length= 200 \n",
    "\n",
    "H_DNA = np.array(H_DNA[0:(len(H_DNA)//sentence_length)*sentence_length])\n",
    "N_DNA = np.array(N_DNA[0:(len(N_DNA)//sentence_length)*sentence_length])\n",
    "\n",
    "#divide in sentences\n",
    "H_DNA_s= np.array(np.split(H_DNA, len(H_DNA)//sentence_length))\n",
    "N_DNA_s= np.array(np.split(N_DNA, len(N_DNA)//sentence_length))\n",
    "\n",
    "H_DNA_s = [''.join(i) for i in H_DNA_s]\n",
    "N_DNA_s = [''.join(i) for i in N_DNA_s]"
   ]
  },
  {
   "cell_type": "code",
   "execution_count": 89,
   "metadata": {},
   "outputs": [
    {
     "name": "stdout",
     "output_type": "stream",
     "text": [
      "KMER:  10\n"
     ]
    }
   ],
   "source": [
    "def getKmers(sequence, size):\n",
    "    return [sequence[x:x+size] for x in range(len(sequence) - size + 1)]\n",
    "\n",
    "kmer = [10]\n",
    "for k in kmer:\n",
    "    print('KMER: ', k)\n",
    "    intr_texts = [' '.join(map(str, (getKmers(i, k)))) for i in N_DNA_s]\n",
    "    depl_texts = [' '.join(map(str, (getKmers(i, k)))) for i in H_DNA_s]"
   ]
  },
  {
   "cell_type": "code",
   "execution_count": 90,
   "metadata": {},
   "outputs": [
    {
     "name": "stdout",
     "output_type": "stream",
     "text": [
      "50000\n",
      "50000\n"
     ]
    }
   ],
   "source": [
    "merge_texts = intr_texts + depl_texts\n",
    "\n",
    "tokenizer = Tokenizer()\n",
    "tokenizer.fit_on_texts(merge_texts)\n",
    "#X = tokenizer.texts_to_matrix(merge_texts, mode = 'freq')\n",
    "\n",
    "encoded_docs = tokenizer.texts_to_sequences(merge_texts)\n",
    "max_length = max([len(s.split()) for s in merge_texts])\n",
    "X = pad_sequences(encoded_docs, maxlen = max_length, padding = 'post')\n",
    "labels = list(np.ones(len(intr_texts))) + list(np.zeros(len(depl_texts)))\n",
    "print(len(X))\n",
    "print(len(labels))\n",
    "X_train, X_test, y_train, y_test = train_test_split(X, labels, test_size = 0.20, random_state = 42)"
   ]
  },
  {
   "cell_type": "code",
   "execution_count": 96,
   "metadata": {},
   "outputs": [
    {
     "data": {
      "text/plain": [
       "1025"
      ]
     },
     "execution_count": 96,
     "metadata": {},
     "output_type": "execute_result"
    }
   ],
   "source": [
    "y_train = np.asarray(y_train)\n",
    "y_test = np.asarray(y_test)\n",
    "vocab_size = len(tokenizer.word_index) + 1\n",
    "vocab_size"
   ]
  },
  {
   "cell_type": "code",
   "execution_count": 97,
   "metadata": {},
   "outputs": [
    {
     "data": {
      "text/plain": [
       "array([491, 457, 260, 264, 455, 408, 182, 370, 180, 399, 613, 549, 229,\n",
       "       214, 175,  70,  10,   7,  42,   8,   9,  12,  14,  13,  11,  10,\n",
       "         7,   3,   1,   1,   1,   4,   8,  55, 102, 116, 126, 125, 115,\n",
       "       103,  53,   7,   3,   1,   4,  24,  37,  43,  45,  49,  48,  44,\n",
       "        38,  23,   3,   1,   1,   4,   8,   9,  12,  14,  13,  78, 184,\n",
       "       224, 158,  36,  34,  30,  26,  39,  16,  18,  20,  21,  22,  19,\n",
       "        63,  87,  64,  59, 164, 275, 619, 768, 789, 666, 263, 247, 120,\n",
       "       246,  87,  64,  59, 164, 275, 619, 695, 958, 888, 909, 969, 703,\n",
       "       625, 267, 162,  60,  17,  15,   5,   2,   2,   2,   2,   2,   2,\n",
       "         2,   2,   2,   2,   2,   6,  16,  56,  84,  89,  90,  91, 334,\n",
       "       423, 308,  99,  68,  22,  19,  17,  15,  39,  16,  56,  84,  89,\n",
       "       333, 576, 812, 831, 688, 287, 226,  46,  41,  26,   5,   2,   2,\n",
       "         2,   2,   2,   2,   2,   2,   2,   2,   2,   2,   2,   2,   2,\n",
       "         6,  16,  18,  59, 164, 197, 427, 519, 513, 724, 523, 454, 533,\n",
       "       593, 748, 422, 465, 912, 905, 471, 441, 305], dtype=int32)"
      ]
     },
     "execution_count": 97,
     "metadata": {},
     "output_type": "execute_result"
    }
   ],
   "source": [
    "X_train[0]"
   ]
  },
  {
   "cell_type": "code",
   "execution_count": 101,
   "metadata": {},
   "outputs": [
    {
     "name": "stdout",
     "output_type": "stream",
     "text": [
      "Model: \"sequential_5\"\n",
      "_________________________________________________________________\n",
      "Layer (type)                 Output Shape              Param #   \n",
      "=================================================================\n",
      "embedding_5 (Embedding)      (None, None, 10)          10250     \n",
      "_________________________________________________________________\n",
      "bidirectional_4 (Bidirection (None, 10)                640       \n",
      "_________________________________________________________________\n",
      "dense_8 (Dense)              (None, 10)                110       \n",
      "_________________________________________________________________\n",
      "dense_9 (Dense)              (None, 1)                 11        \n",
      "=================================================================\n",
      "Total params: 11,011\n",
      "Trainable params: 11,011\n",
      "Non-trainable params: 0\n",
      "_________________________________________________________________\n",
      "None\n",
      "Train on 32000 samples, validate on 8000 samples\n",
      "Epoch 1/5\n",
      "32000/32000 - 36s - loss: 0.5759 - accuracy: 0.7017 - val_loss: 0.5158 - val_accuracy: 0.7477\n",
      "Epoch 2/5\n",
      "32000/32000 - 31s - loss: 0.5094 - accuracy: 0.7579 - val_loss: 0.5250 - val_accuracy: 0.7491\n",
      "Epoch 3/5\n",
      "32000/32000 - 31s - loss: 0.5010 - accuracy: 0.7600 - val_loss: 0.5220 - val_accuracy: 0.7499\n",
      "Epoch 4/5\n",
      "32000/32000 - 29s - loss: 0.4908 - accuracy: 0.7680 - val_loss: 0.5138 - val_accuracy: 0.7533\n",
      "Epoch 5/5\n",
      "32000/32000 - 29s - loss: 0.4849 - accuracy: 0.7692 - val_loss: 0.5058 - val_accuracy: 0.7515\n",
      "Accuracy: 75.06%\n"
     ]
    }
   ],
   "source": [
    "d = 10\n",
    "model = Sequential()\n",
    "model.add(Embedding(vocab_size, d)) #dropout = 0.2 #input_length = max_length\n",
    "model.add(Bidirectional(LSTM(int(d/2)))) #dropout = 0.2, recurrent_dropout = 0.2\n",
    "model.add(Dense(d, activation = 'relu'))\n",
    "model.add(Dense(1, activation = 'sigmoid'))\n",
    "\n",
    "epochs = 5\n",
    "model.compile(loss = 'binary_crossentropy', optimizer = 'rmsprop', metrics = ['accuracy'])\n",
    "#checkpoint = ModelCheckpoint(\"weights.best.hdf5\", monitor = 'val_acc', verbose = 1, \n",
    "#                             save_best_only = True, mode = 'max')\n",
    "\n",
    "print(model.summary())\n",
    "\n",
    "history = model.fit(X_train, y_train, \n",
    "                    epochs = epochs, verbose = 2, validation_split = 0.2, batch_size = 32, shuffle = True, \n",
    "#                    callbacks = [checkpoint]\n",
    "                   )\n",
    "\n",
    "predicted_labels = model.predict(X_test)\n",
    "cm = confusion_matrix(y_test, [np.round(i[0]) for i in predicted_labels])\n",
    "cm = cm.astype('float') / cm.sum(axis = 1)[:, np.newaxis]\n",
    "\n",
    "scores = model.evaluate(X_test, y_test, verbose = 0)\n",
    "print(\"Accuracy: %.2f%%\" % (scores[1]*100))"
   ]
  },
  {
   "cell_type": "code",
   "execution_count": 102,
   "metadata": {},
   "outputs": [
    {
     "data": {
      "image/png": "[encoded data removed]",
      "text/plain": [
       "<Figure size 432x288 with 2 Axes>"
      ]
     },
     "metadata": {
      "needs_background": "light"
     },
     "output_type": "display_data"
    }
   ],
   "source": [
    "from sklearn.metrics import confusion_matrix\n",
    "import matplotlib.pyplot as plt\n",
    "import itertools\n",
    "\n",
    "predicted_labels = model.predict(X_test)\n",
    "cm = confusion_matrix(y_test, [np.round(i[0]) for i in predicted_labels])\n",
    "cm = cm.astype('float') / cm.sum(axis = 1)[:, np.newaxis]\n",
    "\n",
    "plt.imshow(cm, cmap = plt.cm.Blues)\n",
    "plt.title('Normalized confusion matrix', fontsize = 15)\n",
    "plt.colorbar()\n",
    "plt.xlabel('True label', fontsize = 15)\n",
    "plt.ylabel('Predicted label', fontsize = 15)\n",
    "for i, j in itertools.product(range(cm.shape[0]), range(cm.shape[1])):\n",
    "    plt.text(j, i, format(cm[i, j], '.2f'),\n",
    "             horizontalalignment = 'center', verticalalignment = 'center', fontsize = 20,\n",
    "             color='white' if cm[i, j] > 0.5 else 'black')\n",
    "plt.show()"
   ]
  },
  {
   "cell_type": "code",
   "execution_count": 104,
   "metadata": {},
   "outputs": [
    {
     "name": "stdout",
     "output_type": "stream",
     "text": [
      "(20, 25000, 10)\n",
      "(20, 25000, 10)\n",
      "words,sentences,letters\n",
      "50000\n",
      "50000\n",
      "(40000, 20)\n",
      "(10000, 20)\n",
      "1025\n"
     ]
    }
   ],
   "source": [
    "sentence_length= 200\n",
    "word_length = 10\n",
    "\n",
    "H_DNA = np.array(H_DNA[0:(len(H_DNA)//sentence_length)*sentence_length])\n",
    "N_DNA = np.array(N_DNA[0:(len(N_DNA)//sentence_length)*sentence_length])\n",
    "\n",
    "#divide in sentences\n",
    "H_DNA_s = np.array(np.split(H_DNA, len(H_DNA)//sentence_length))\n",
    "N_DNA_s = np.array(np.split(N_DNA, len(N_DNA)//sentence_length))\n",
    "\n",
    "#divide in words\n",
    "H_DNA_w = np.array(np.split(H_DNA_s, sentence_length//word_length, axis=1  ))\n",
    "N_DNA_w = np.array(np.split(N_DNA_s, sentence_length//word_length , axis=1 ))\n",
    "\n",
    "print(H_DNA_w.shape)\n",
    "print(N_DNA_w.shape)\n",
    "print(\"words,sentences,letters\")\n",
    "\n",
    "#make words strings.\n",
    "Human_DNA = np.array([[''.join(H_DNA_w[i,j]) for i in range(H_DNA_w.shape[0]) ]for \n",
    "                  j in range(H_DNA_w.shape[1])])\n",
    "#make words strings.\n",
    "Neanderthal_DNA = np.array([[''.join(N_DNA_w[i,j]) for i in range(N_DNA_w.shape[0]) ]for \n",
    "                  j in range(N_DNA_w.shape[1])])\n",
    "\n",
    "depl_texts = [' '.join(Human_DNA[i,:]) for i in range(Human_DNA.shape[0])]\n",
    "intr_texts = [' '.join(Neanderthal_DNA[i,:]) for i in range(Neanderthal_DNA.shape[0])]\n",
    "\n",
    "merge_texts = intr_texts + depl_texts\n",
    "print(len(merge_texts))\n",
    "labels = list(np.ones(len(intr_texts))) + list(np.zeros(len(depl_texts)))\n",
    "print(len(labels))\n",
    "\n",
    "tokenizer = Tokenizer()\n",
    "tokenizer.fit_on_texts(merge_texts)\n",
    "\n",
    "encoded_docs = tokenizer.texts_to_sequences(merge_texts)\n",
    "max_length = max([len(s.split()) for s in merge_texts])\n",
    "X = pad_sequences(encoded_docs, maxlen = max_length, padding = 'post')\n",
    "\n",
    "from sklearn.model_selection import train_test_split\n",
    "X_train, X_test, y_train, y_test = train_test_split(X, labels, test_size = 0.20, shuffle = True)\n",
    "\n",
    "print(X_train.shape)\n",
    "print(X_test.shape)\n",
    "y_train = np.asarray(y_train)\n",
    "y_test = np.asarray(y_test)\n",
    "\n",
    "vocab_size = len(tokenizer.word_index) + 1\n",
    "print(vocab_size)"
   ]
  },
  {
   "cell_type": "code",
   "execution_count": 106,
   "metadata": {},
   "outputs": [
    {
     "name": "stdout",
     "output_type": "stream",
     "text": [
      "Train on 32000 samples, validate on 8000 samples\n",
      "Epoch 1/5\n",
      "32000/32000 - 13s - loss: 0.5304 - accuracy: 0.7367 - val_loss: 0.5189 - val_accuracy: 0.7419\n",
      "Epoch 2/5\n",
      "32000/32000 - 9s - loss: 0.4952 - accuracy: 0.7592 - val_loss: 0.5150 - val_accuracy: 0.7441\n",
      "Epoch 3/5\n",
      "32000/32000 - 9s - loss: 0.4875 - accuracy: 0.7629 - val_loss: 0.5240 - val_accuracy: 0.7473\n",
      "Epoch 4/5\n",
      "32000/32000 - 9s - loss: 0.4822 - accuracy: 0.7689 - val_loss: 0.5150 - val_accuracy: 0.7477\n",
      "Epoch 5/5\n",
      "32000/32000 - 8s - loss: 0.4791 - accuracy: 0.7688 - val_loss: 0.5129 - val_accuracy: 0.7429\n"
     ]
    },
    {
     "data": {
      "text/plain": [
       "<tensorflow.python.keras.callbacks.History at 0x7fd5b013ae50>"
      ]
     },
     "execution_count": 106,
     "metadata": {},
     "output_type": "execute_result"
    }
   ],
   "source": [
    "model.fit(X_train, y_train, \n",
    "                    epochs = epochs, verbose = 2, validation_split = 0.2, shuffle = True)"
   ]
  },
  {
   "cell_type": "code",
   "execution_count": 107,
   "metadata": {},
   "outputs": [
    {
     "data": {
      "image/png": "[encoded data removed]",
      "text/plain": [
       "<Figure size 432x288 with 2 Axes>"
      ]
     },
     "metadata": {
      "needs_background": "light"
     },
     "output_type": "display_data"
    }
   ],
   "source": [
    "from sklearn.metrics import confusion_matrix\n",
    "import matplotlib.pyplot as plt\n",
    "import itertools\n",
    "\n",
    "predicted_labels = model.predict(X_test)\n",
    "cm = confusion_matrix(y_test, [np.round(i[0]) for i in predicted_labels])\n",
    "cm = cm.astype('float') / cm.sum(axis = 1)[:, np.newaxis]\n",
    "\n",
    "plt.imshow(cm, cmap = plt.cm.Blues)\n",
    "plt.title('Normalized confusion matrix', fontsize = 15)\n",
    "plt.colorbar()\n",
    "plt.xlabel('True label', fontsize = 15)\n",
    "plt.ylabel('Predicted label', fontsize = 15)\n",
    "for i, j in itertools.product(range(cm.shape[0]), range(cm.shape[1])):\n",
    "    plt.text(j, i, format(cm[i, j], '.2f'),\n",
    "             horizontalalignment = 'center', verticalalignment = 'center', fontsize = 20,\n",
    "             color='white' if cm[i, j] > 0.5 else 'black')\n",
    "plt.show()"
   ]
  },
  {
   "cell_type": "code",
   "execution_count": null,
   "metadata": {},
   "outputs": [],
   "source": []
  }
 ],
 "metadata": {
  "kernelspec": {
   "display_name": "Python 3",
   "language": "python",
   "name": "python3"
  },
  "language_info": {
   "codemirror_mode": {
    "name": "ipython",
    "version": 3
   },
   "file_extension": ".py",
   "mimetype": "text/x-python",
   "name": "python",
   "nbconvert_exporter": "python",
   "pygments_lexer": "ipython3",
   "version": "3.7.6"
  }
 },
 "nbformat": 4,
 "nbformat_minor": 4
}
