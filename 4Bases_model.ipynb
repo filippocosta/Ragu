{
 "cells": [
  {
   "cell_type": "code",
   "execution_count": 1,
   "metadata": {},
   "outputs": [],
   "source": [
    "import numpy as np\n",
    "import sys\n",
    "import matplotlib.pyplot as plt\n",
    "import scipy\n",
    "from scipy import signal"
   ]
  },
  {
   "cell_type": "code",
   "execution_count": 2,
   "metadata": {},
   "outputs": [],
   "source": [
    "def DNA_gen(N0, N, Pmut, g, M = 0):\n",
    "    print('Pmut: ', Pmut)\n",
    "    DNA = list(np.random.randint(0,4, size = N0)) \n",
    "    limit = [0,g/2,g,1/2+g/2,1]\n",
    "    base = [1,3,0,2]\n",
    "    print(limit)\n",
    "    while (len(DNA) != N):\n",
    "        j = np.random.randint(0,len(DNA))\n",
    "        nuc = DNA[j]\n",
    "        p = np.random.random()\n",
    "        if(p>Pmut):\n",
    "            DNA.insert(j+1, nuc)\n",
    "        else:\n",
    "            pg = np.random.random()\n",
    "            v = np.array(limit)-pg\n",
    "            v[v<0] = 1\n",
    "            idx = np.argmin(v)\n",
    "            DNA[j] = base[idx-1]\n",
    "    count = 0\n",
    "    while(count != M):\n",
    "        j = np.random.randint(0,len(DNA))\n",
    "        pg = np.random.random()\n",
    "        v = np.array(limit)-pg\n",
    "        v[v<0] = 1\n",
    "        idx = np.argmin(v)\n",
    "        DNA[j] = base[idx-1]\n",
    "        count += 1\n",
    "\n",
    "    return DNA"
   ]
  },
  {
   "cell_type": "markdown",
   "metadata": {},
   "source": [
    "### Calibration - correlation exponent"
   ]
  },
  {
   "cell_type": "code",
   "execution_count": 3,
   "metadata": {},
   "outputs": [
    {
     "name": "stdout",
     "output_type": "stream",
     "text": [
      "Pmut:  0.1\n",
      "[0, 0.25, 0.5, 0.75, 1]\n",
      "Pmut:  0.12\n",
      "[0, 0.25, 0.5, 0.75, 1]\n",
      "Pmut:  0.15\n",
      "[0, 0.25, 0.5, 0.75, 1]\n",
      "Pmut:  0.17\n",
      "[0, 0.25, 0.5, 0.75, 1]\n",
      "Pmut:  0.2\n",
      "[0, 0.25, 0.5, 0.75, 1]\n",
      "Pmut:  0.25\n",
      "[0, 0.25, 0.5, 0.75, 1]\n",
      "Pmut:  0.3\n",
      "[0, 0.25, 0.5, 0.75, 1]\n",
      "Pmut:  0.4\n",
      "[0, 0.25, 0.5, 0.75, 1]\n",
      "(8, 1000000)\n"
     ]
    }
   ],
   "source": [
    "N = 1000000\n",
    "N0 = 1\n",
    "coeff = [0.10,0.12,0.15,0.17,0.20,0.25,0.30,0.40]\n",
    "subjects = [DNA_gen(N0,N,coeff[i],0.5) for i in range(len(coeff))]\n",
    "print(np.array(subjects).shape)"
   ]
  },
  {
   "cell_type": "code",
   "execution_count": 3,
   "metadata": {},
   "outputs": [],
   "source": [
    "def Corr(s,r,alphabet):\n",
    "    bases = ['A','C','T','G']\n",
    "    C = 0\n",
    "    freq = 0\n",
    "    s1 = s[:-r]\n",
    "    s2 = s[r:]\n",
    "    long_dist = np.equal(s1,s2)\n",
    "    long_dist = np.sum([int(long_dist[i]) for i in range(len(long_dist))])/len(long_dist)\n",
    "    for i in bases:\n",
    "        freq += (alphabet[i][0]/len(s))**2\n",
    "    C = long_dist -freq\n",
    "    return C"
   ]
  },
  {
   "cell_type": "code",
   "execution_count": 4,
   "metadata": {},
   "outputs": [],
   "source": [
    "def lin(x,a,b):\n",
    "    return a*np.array(x)+b\n",
    "\n",
    "def smooth(y, box_pts):\n",
    "        box = np.ones(box_pts)/box_pts\n",
    "        y_smooth = np.convolve(y, box, mode='same')\n",
    "        return y_smooth\n",
    "def scaling(x,a,c):\n",
    "    return c*x**(-a)"
   ]
  },
  {
   "cell_type": "code",
   "execution_count": 6,
   "metadata": {},
   "outputs": [
    {
     "name": "stdout",
     "output_type": "stream",
     "text": [
      "8th Sequence\r"
     ]
    }
   ],
   "source": [
    "gammas = []\n",
    "count = 0\n",
    "n = 5\n",
    "m = 5\n",
    "for s in  subjects:\n",
    "    count += 1\n",
    "    change = {0:['A'], 1:['C'], 2:['T'], 3:['G']}\n",
    "    dna = []\n",
    "    for i in range(len(s)):\n",
    "        dna.append(change[s[i]][0])\n",
    "        \n",
    "    alphabet = {'A':[0], 'C':[0], 'T':[0], 'G':[0]}\n",
    "    for i in dna:\n",
    "        alphabet[i][0] += 1\n",
    "        \n",
    "    r = np.linspace(10,100,100)\n",
    "    cr = [Corr(s,int(ri),alphabet) for ri in r]\n",
    "    cr = smooth(cr,10)\n",
    " \n",
    "    try:\n",
    "        gamma = scipy.optimize.curve_fit(scaling,r[n:-m],cr[n:-m])[0]\n",
    "        gammas.append(gamma[0])\n",
    "    except:\n",
    "        gammas.append(-1)\n",
    "    print('{}th Sequence'.format(count), end='\\r' ,flush=True)"
   ]
  },
  {
   "cell_type": "code",
   "execution_count": 5,
   "metadata": {},
   "outputs": [],
   "source": [
    "def relation(gamma,c):\n",
    "    return (3/8*np.array(gamma))/(1+(3/8*np.array(gamma)))*c"
   ]
  },
  {
   "cell_type": "code",
   "execution_count": 8,
   "metadata": {},
   "outputs": [
    {
     "name": "stdout",
     "output_type": "stream",
     "text": [
      "[1.20582814]\n"
     ]
    },
    {
     "data": {
      "image/png": "[encoded data removed]",
      "text/plain": [
       "<Figure size 432x288 with 1 Axes>"
      ]
     },
     "metadata": {
      "needs_background": "light"
     },
     "output_type": "display_data"
    }
   ],
   "source": [
    "info_relation = scipy.optimize.curve_fit(relation,gammas[0:5],coeff[0:5])[0]\n",
    "print(info_relation)\n",
    "plt.plot(gammas,coeff, 'o', c='red')\n",
    "plt.plot(gammas[0:5],relation(gammas[0:5],info_relation[0]), c = 'red')\n",
    "plt.ylabel('p_mut')\n",
    "plt.xlabel('Gamma')\n",
    "plt.show()"
   ]
  },
  {
   "cell_type": "markdown",
   "metadata": {},
   "source": [
    "### Correlation - Correlation amplitude"
   ]
  },
  {
   "cell_type": "code",
   "execution_count": 9,
   "metadata": {},
   "outputs": [
    {
     "name": "stdout",
     "output_type": "stream",
     "text": [
      "Pmut:  0.15\n",
      "[0, 0.25, 0.5, 0.75, 1]\n",
      "Pmut:  0.15\n",
      "[0, 0.25, 0.5, 0.75, 1]\n",
      "Pmut:  0.15\n",
      "[0, 0.25, 0.5, 0.75, 1]\n",
      "Pmut:  0.15\n",
      "[0, 0.25, 0.5, 0.75, 1]\n",
      "Pmut:  0.15\n",
      "[0, 0.25, 0.5, 0.75, 1]\n",
      "(5, 1000000)\n"
     ]
    }
   ],
   "source": [
    "N = 1000000\n",
    "N0 = 1\n",
    "coeff2 = [0, N, int(1.10*N) ,int(1.25*N), int(1.50*N)]\n",
    "subjects2 = [DNA_gen(N0,N,0.15,0.5, M = coeff2[i]) for i in range(len(coeff2))]\n",
    "print(np.array(subjects2).shape)"
   ]
  },
  {
   "cell_type": "code",
   "execution_count": 10,
   "metadata": {},
   "outputs": [
    {
     "name": "stdout",
     "output_type": "stream",
     "text": [
      "[0.6716759591495229, 0.09385076232667336, 0.07804765357260239, 0.055961408183053986, 0.03441447375181514]\n"
     ]
    },
    {
     "data": {
      "image/png": "[encoded data removed]",
      "text/plain": [
       "<Figure size 432x288 with 1 Axes>"
      ]
     },
     "metadata": {
      "needs_background": "light"
     },
     "output_type": "display_data"
    }
   ],
   "source": [
    "cs = []\n",
    "count = 0\n",
    "n = 5\n",
    "m = 5\n",
    "for s in  subjects2:\n",
    "    count += 1\n",
    "    change = {0:['A'], 1:['C'], 2:['T'], 3:['G']}\n",
    "    dna = []\n",
    "    for i in range(len(s)):\n",
    "        dna.append(change[s[i]][0])\n",
    "        \n",
    "    alphabet = {'A':[0], 'C':[0], 'T':[0], 'G':[0]}\n",
    "    for i in dna:\n",
    "        alphabet[i][0] += 1\n",
    "        \n",
    "    r = np.linspace(10,100,100)\n",
    "    cr = [Corr(s,int(ri),alphabet) for ri in r]\n",
    "    cr = smooth(cr,10)\n",
    "    \n",
    "\n",
    "    try:\n",
    "        c = scipy.optimize.curve_fit(scaling,r[n:-m],cr[n:-m])[0]\n",
    "        cs.append(c[1])\n",
    "        \n",
    "        plt.plot(r[n:-m],cr[n:-m], label = '{}'.format(count))\n",
    "\n",
    "    except:\n",
    "        cs.append(-1)\n",
    "    print('{}th Sequence'.format(count), end='\\r' ,flush=True)    \n",
    "\n",
    "print(cs)\n",
    "plt.xscale('log')\n",
    "plt.yscale('log')\n",
    "plt.legend()\n",
    "plt.show()  "
   ]
  },
  {
   "cell_type": "code",
   "execution_count": 6,
   "metadata": {},
   "outputs": [],
   "source": [
    "def rel_c(ampl_c,):\n",
    "    return -np.log(ampl_c)/2*1.012226293705887"
   ]
  },
  {
   "cell_type": "code",
   "execution_count": 12,
   "metadata": {},
   "outputs": [
    {
     "name": "stdout",
     "output_type": "stream",
     "text": [
      "Offset:  1.012226293705887\n"
     ]
    },
    {
     "data": {
      "image/png": "[encoded data removed]",
      "text/plain": [
       "<Figure size 432x288 with 1 Axes>"
      ]
     },
     "metadata": {
      "needs_background": "light"
     },
     "output_type": "display_data"
    }
   ],
   "source": [
    "mn = np.array(coeff2[1:])/N\n",
    "ampl_c = np.array(cs[1:])/cs[0]\n",
    "plt.plot(ampl_c, mn,'o', c='red')\n",
    "\n",
    "info_rel_c = scipy.optimize.curve_fit(rel_c,ampl_c, mn)[0]\n",
    "plt.plot(ampl_c,rel_c(ampl_c,info_rel_c[0]), c = 'red')\n",
    "print('Offset: ',info_rel_c[0])\n",
    "plt.ylabel('M/N')\n",
    "plt.xlabel('c')\n",
    "plt.show()"
   ]
  },
  {
   "cell_type": "markdown",
   "metadata": {},
   "source": [
    "### Select P-mut for Human and Neanderthal"
   ]
  },
  {
   "cell_type": "code",
   "execution_count": 13,
   "metadata": {},
   "outputs": [
    {
     "name": "stdout",
     "output_type": "stream",
     "text": [
      "G[Intr]: 0.45570531946288234\n",
      "G[Depl]: 0.39954090257827257\n"
     ]
    }
   ],
   "source": [
    "exp_intr = np.fromfile('histo_10_100_intr.txt', sep = \",\")\n",
    "exp_depl = np.fromfile('histo_10_100_depl.txt', sep = \",\")\n",
    "\n",
    "mean_intr = np.mean(exp_intr)\n",
    "mean_depl = np.mean(exp_depl)\n",
    "print('G[Intr]:', mean_intr)\n",
    "print('G[Depl]:', mean_depl)"
   ]
  },
  {
   "cell_type": "code",
   "execution_count": 14,
   "metadata": {},
   "outputs": [
    {
     "name": "stdout",
     "output_type": "stream",
     "text": [
      "H:  [0.15712493]\n",
      "N:  [0.17598874]\n"
     ]
    }
   ],
   "source": [
    "p_human = relation(mean_depl, info_relation)\n",
    "p_neanderthal = relation(mean_intr, info_relation)\n",
    "print('H: ',p_human)\n",
    "print('N: ',p_neanderthal)"
   ]
  },
  {
   "cell_type": "code",
   "execution_count": 58,
   "metadata": {},
   "outputs": [],
   "source": [
    "c_intr = np.fromfile('c_intr.txt', sep = \",\")\n",
    "c_depl = np.fromfile('c_depl.txt', sep = \",\")"
   ]
  },
  {
   "cell_type": "code",
   "execution_count": 59,
   "metadata": {},
   "outputs": [
    {
     "name": "stdout",
     "output_type": "stream",
     "text": [
      "C[Intr]: 0.06346758483847653\n",
      "C[Depl]: 0.05350930434735322\n"
     ]
    }
   ],
   "source": [
    "c_intr_mean = np.mean(c_intr)\n",
    "c_depl_mean = np.mean(c_depl)\n",
    "print('C[Intr]:', c_intr_mean)\n",
    "print('C[Depl]:', c_depl_mean)"
   ]
  },
  {
   "cell_type": "code",
   "execution_count": 17,
   "metadata": {},
   "outputs": [
    {
     "data": {
      "image/png": "[encoded data removed]",
      "text/plain": [
       "<Figure size 432x288 with 1 Axes>"
      ]
     },
     "metadata": {
      "needs_background": "light"
     },
     "output_type": "display_data"
    }
   ],
   "source": [
    "r = np.linspace(10,100,100)\n",
    "plt.plot(r,scaling(r,mean_depl,c_depl_mean), c = 'green',label = 'Depl')\n",
    "plt.plot(r,scaling(r,mean_intr,c_intr_mean), c = 'red',label = 'Intr')\n",
    "\n",
    "plt.xlabel('distance (bs)')\n",
    "plt.ylabel('Correlation')\n",
    "\n",
    "plt.xscale('log')\n",
    "plt.yscale('log')\n",
    "\n",
    "plt.legend()\n",
    "plt.show()"
   ]
  },
  {
   "cell_type": "markdown",
   "metadata": {},
   "source": [
    "### Sequence Generation"
   ]
  },
  {
   "cell_type": "code",
   "execution_count": 7,
   "metadata": {},
   "outputs": [
    {
     "name": "stdout",
     "output_type": "stream",
     "text": [
      "**Human**\n",
      "Pmut:  0.15691407\n",
      "[0, 0.25, 0.5, 0.75, 1]\n",
      "**Neanderthal**\n",
      "Pmut:  0.17575256\n",
      "[0, 0.25, 0.5, 0.75, 1]\n"
     ]
    }
   ],
   "source": [
    "N = 2000000\n",
    "N0 = 1\n",
    "\n",
    "human = []\n",
    "neanderthal = []\n",
    "\n",
    "p_human = 0.15691407\n",
    "p_neanderthal = 0.17575256\n",
    "\n",
    "print('**Human**')\n",
    "human = DNA_gen(N0,N,p_human,0.5)\n",
    "\n",
    "print('**Neanderthal**')\n",
    "neanderthal = DNA_gen(N0,N,p_neanderthal,0.5)"
   ]
  },
  {
   "cell_type": "code",
   "execution_count": 8,
   "metadata": {},
   "outputs": [
    {
     "name": "stdout",
     "output_type": "stream",
     "text": [
      "**Human**\n",
      "{'A': [629772], 'C': [480073], 'T': [401918], 'G': [488237]}\n",
      "GC-content:  0.484155\n",
      "**Neanderthal**\n",
      "{'A': [461916], 'C': [642229], 'T': [448462], 'G': [447393]}\n",
      "GC-content:  0.544811\n"
     ]
    }
   ],
   "source": [
    "change = {0:['A'], 1:['C'], 2:['T'], 3:['G']}\n",
    "N_DNA = []\n",
    "H_DNA = []\n",
    "for (i,j) in zip(human,neanderthal):\n",
    "    H_DNA.append(change[i][0])\n",
    "    N_DNA.append(change[j][0])\n",
    "    \n",
    "human_alphabet = {'A':[0], 'C':[0],'T':[0], 'G':[0]}\n",
    "neanderthal_alphabet = {'A':[0], 'C':[0], 'T':[0], 'G':[0]}\n",
    "for (i,j) in zip(H_DNA,N_DNA):\n",
    "    human_alphabet[i][0] += 1\n",
    "    neanderthal_alphabet[j][0] += 1\n",
    "    \n",
    "print('**Human**')\n",
    "print(human_alphabet)\n",
    "print('GC-content: ',(human_alphabet['C'][0]+human_alphabet['G'][0])/len(H_DNA))\n",
    "\n",
    "print('**Neanderthal**')\n",
    "print(neanderthal_alphabet)\n",
    "print('GC-content: ',(neanderthal_alphabet['C'][0]+neanderthal_alphabet['G'][0])/len(N_DNA))"
   ]
  },
  {
   "cell_type": "code",
   "execution_count": 9,
   "metadata": {},
   "outputs": [
    {
     "name": "stdout",
     "output_type": "stream",
     "text": [
      "G[H]: 0.3995297884422618\n",
      "C[H]: 0.7074279164642465\n",
      "G[N]: 0.4583472995106024\n",
      "C[N]: 0.7132705190447504\n"
     ]
    },
    {
     "data": {
      "image/png": "[encoded data removed]",
      "text/plain": [
       "<Figure size 432x288 with 1 Axes>"
      ]
     },
     "metadata": {
      "needs_background": "light"
     },
     "output_type": "display_data"
    }
   ],
   "source": [
    "r = np.linspace(10,100,100)\n",
    "n = 5\n",
    "m = 5\n",
    "\n",
    "cr_H = [Corr(human,int(ri),human_alphabet) for ri in r]\n",
    "cr_H = smooth(cr_H,10)\n",
    "\n",
    "cr_N = [Corr(neanderthal,int(ri),neanderthal_alphabet) for ri in r]\n",
    "cr_N = smooth(cr_N,10)\n",
    " \n",
    "\n",
    "gamma_H = scipy.optimize.curve_fit(scaling,r[n:-m],cr_H[n:-m])[0]\n",
    "gamma_N = scipy.optimize.curve_fit(scaling,r[n:-m],cr_N[n:-m])[0]\n",
    "        \n",
    "plt.plot(r[n:-m],cr_H[n:-m], c = 'red', label = 'Human')\n",
    "plt.plot(r[n:-m],scaling(r[n:-m],gamma_H[0],gamma_H[1]), c = 'black')\n",
    "\n",
    "plt.plot(r[n:-m],cr_N[n:-m], c = 'green', label = 'Neanderthal')\n",
    "plt.plot(r[n:-m],scaling(r[n:-m],gamma_N[0],gamma_N[1]), c = 'black')\n",
    "\n",
    "print('G[H]:',gamma_H[0])\n",
    "print('C[H]:',gamma_H[1])\n",
    "print('G[N]:',gamma_N[0])\n",
    "print('C[N]:',gamma_N[1])\n",
    "\n",
    "plt.yscale('log')\n",
    "plt.xscale('log')\n",
    "plt.legend()\n",
    "plt.show()"
   ]
  },
  {
   "cell_type": "code",
   "execution_count": 14,
   "metadata": {},
   "outputs": [],
   "source": [
    "mean_intr = 0.45570531946288234\n",
    "mean_depl = 0.39954090257827257"
   ]
  },
  {
   "cell_type": "code",
   "execution_count": 16,
   "metadata": {},
   "outputs": [
    {
     "name": "stdout",
     "output_type": "stream",
     "text": [
      "2613345\n",
      "2448910\n"
     ]
    }
   ],
   "source": [
    "N = 2000000\n",
    "c_depl_mean = 0.05350930434735322\n",
    "c_intr_mean = 0.06346758483847653\n",
    "div_H = c_depl_mean/gamma_H[1]\n",
    "div_N = c_intr_mean/gamma_N[1]\n",
    "\n",
    "M_H = int(rel_c(div_H)*N)\n",
    "M_N = int(rel_c(div_N)*N)\n",
    "print(M_H)\n",
    "print(M_N)"
   ]
  },
  {
   "cell_type": "markdown",
   "metadata": {},
   "source": [
    "### Sequence Generation - Similar Correlation Amplitude"
   ]
  },
  {
   "cell_type": "code",
   "execution_count": 22,
   "metadata": {},
   "outputs": [
    {
     "name": "stdout",
     "output_type": "stream",
     "text": [
      "**Human**\n",
      "Pmut:  0.15691407\n",
      "[0, 0.25, 0.5, 0.75, 1]\n",
      "**Neanderthal**\n",
      "Pmut:  0.17575256\n",
      "[0, 0.25, 0.5, 0.75, 1]\n"
     ]
    }
   ],
   "source": [
    "N = 2000000\n",
    "N0 = 1\n",
    "\n",
    "print('**Human**')\n",
    "human2 = DNA_gen(N0,N,p_human,0.5, M = M_H)\n",
    "\n",
    "print('**Neanderthal**')\n",
    "neanderthal2 = DNA_gen(N0,N,p_neanderthal,0.5, M = M_N)"
   ]
  },
  {
   "cell_type": "code",
   "execution_count": 23,
   "metadata": {},
   "outputs": [
    {
     "name": "stdout",
     "output_type": "stream",
     "text": [
      "**Human**\n",
      "{'A': [474762], 'C': [541918], 'T': [483119], 'G': [500201]}\n",
      "GC-content:  0.5210595\n",
      "**Neanderthal**\n",
      "{'A': [533638], 'C': [489000], 'T': [485714], 'G': [491648]}\n",
      "GC-content:  0.490324\n"
     ]
    }
   ],
   "source": [
    "change = {0:['A'], 1:['C'], 2:['T'], 3:['G']}\n",
    "N_DNA2 = []\n",
    "H_DNA2 = []\n",
    "for (i,j) in zip(human2,neanderthal2):\n",
    "    H_DNA2.append(change[i][0])\n",
    "    N_DNA2.append(change[j][0])\n",
    "    \n",
    "human_alphabet2 = {'A':[0], 'C':[0],'T':[0], 'G':[0]}\n",
    "neanderthal_alphabet2 = {'A':[0], 'C':[0], 'T':[0], 'G':[0]}\n",
    "for (i,j) in zip(H_DNA2,N_DNA2):\n",
    "    human_alphabet2[i][0] += 1\n",
    "    neanderthal_alphabet2[j][0] += 1\n",
    "    \n",
    "print('**Human**')\n",
    "print(human_alphabet2)\n",
    "print('GC-content: ',(human_alphabet2['C'][0]+human_alphabet2['G'][0])/len(H_DNA2))\n",
    "\n",
    "print('**Neanderthal**')\n",
    "print(neanderthal_alphabet2)\n",
    "print('GC-content: ',(neanderthal_alphabet2['C'][0]+neanderthal_alphabet2['G'][0])/len(N_DNA2))"
   ]
  },
  {
   "cell_type": "code",
   "execution_count": 24,
   "metadata": {},
   "outputs": [],
   "source": [
    "r = np.linspace(10,100,100)\n",
    "n = 5\n",
    "m = 5\n",
    "\n",
    "cr_H2 = [Corr(human2,int(ri),human_alphabet2) for ri in r]\n",
    "cr_H2 = smooth(cr_H2,10)\n",
    "\n",
    "cr_N2 = [Corr(neanderthal2,int(ri),neanderthal_alphabet2) for ri in r]\n",
    "cr_N2 = smooth(cr_N2,10)\n",
    " \n",
    "\n",
    "gamma_H2 = scipy.optimize.curve_fit(scaling,r[n:-m],cr_H2[n:-m])[0]\n",
    "gamma_N2 = scipy.optimize.curve_fit(scaling,r[n:-m],cr_N2[n:-m])[0]"
   ]
  },
  {
   "cell_type": "code",
   "execution_count": 25,
   "metadata": {},
   "outputs": [
    {
     "name": "stdout",
     "output_type": "stream",
     "text": [
      "G[H]: 0.400363603690215\n",
      "C[H]: 0.05173005280654302 \n",
      "\n",
      "G[N]: 0.46201868827543957\n",
      "C[N]: 0.06243140730579273 \n",
      "\n",
      "G[Intr]: 0.45570531946288234\n",
      "C[Intr]: 0.06346758483847653 \n",
      "\n",
      "G[Depl]: 0.39954090257827257\n",
      "C[Depl]: 0.05350930434735322\n"
     ]
    },
    {
     "data": {
      "image/png": "[encoded data removed]",
      "text/plain": [
       "<Figure size 720x504 with 1 Axes>"
      ]
     },
     "metadata": {
      "needs_background": "light"
     },
     "output_type": "display_data"
    }
   ],
   "source": [
    "plt.figure(figsize = (10,7))\n",
    "plt.xlabel('r', fontsize = 18, labelpad = 15, weight = 'semibold')\n",
    "plt.ylabel('C(r)', fontsize = 18, labelpad = 15, weight = 'semibold')\n",
    "\n",
    "\n",
    "plt.plot(r[n:-m],cr_H2[n:-m], c = 'red', label = 'Human')\n",
    "plt.plot(r[n:-m],cr_N2[n:-m], c = 'green', label = 'Neanderthal')\n",
    "\n",
    "plt.plot(r[n:-m],scaling(r[n:-m],mean_depl,c_depl_mean), c = 'orange',label = 'Depl')\n",
    "plt.plot(r[n:-m],scaling(r[n:-m],mean_intr,c_intr_mean), c = 'blue',label = 'Intr')\n",
    "\n",
    "print('G[H]:',gamma_H2[0])\n",
    "print('C[H]:',gamma_H2[1],'\\n')\n",
    "print('G[N]:',gamma_N2[0])\n",
    "print('C[N]:',gamma_N2[1],'\\n')\n",
    "\n",
    "print('G[Intr]:', mean_intr)\n",
    "print('C[Intr]:', c_intr_mean,'\\n')\n",
    "print('G[Depl]:', mean_depl)\n",
    "print('C[Depl]:', c_depl_mean)\n",
    "\n",
    "plt.yscale('log')\n",
    "plt.xscale('log')\n",
    "plt.tick_params(labelsize=15,  which='both')\n",
    "plt.legend(fontsize = 'x-large')\n",
    "plt.show()"
   ]
  },
  {
   "cell_type": "code",
   "execution_count": 26,
   "metadata": {},
   "outputs": [],
   "source": [
    "string = ''\n",
    "with open('human_4bases_long.txt', mode='w') as f:\n",
    "    f.write(string.join(H_DNA2))\n",
    "    f.close()\n",
    "string = ''\n",
    "with open('neanderthal_4bases_long.txt', mode='w') as f:\n",
    "    f.write(string.join(N_DNA2))\n",
    "    f.close()"
   ]
  },
  {
   "cell_type": "markdown",
   "metadata": {},
   "source": [
    "### Without Kmers"
   ]
  },
  {
   "cell_type": "code",
   "execution_count": 60,
   "metadata": {},
   "outputs": [],
   "source": [
    "import numpy as np\n",
    "import sys\n",
    "import matplotlib.pyplot as plt\n",
    "import scipy\n",
    "from scipy import signal"
   ]
  },
  {
   "cell_type": "code",
   "execution_count": 61,
   "metadata": {},
   "outputs": [],
   "source": [
    "with open('human_4bases_0.txt', mode='r') as f:\n",
    "    H_DNA = f.read().rstrip('\\n')\n",
    "    f.close()\n",
    "with open('neanderthal_4bases_0.txt', mode='r') as f:\n",
    "    N_DNA = f.read().rstrip('\\n')\n",
    "    f.close()"
   ]
  },
  {
   "cell_type": "code",
   "execution_count": 62,
   "metadata": {},
   "outputs": [],
   "source": [
    "H_DNA = [i for i in H_DNA]\n",
    "N_DNA = [i for i in N_DNA]"
   ]
  },
  {
   "cell_type": "code",
   "execution_count": 63,
   "metadata": {},
   "outputs": [
    {
     "name": "stdout",
     "output_type": "stream",
     "text": [
      "**Human**\n",
      "{'A': [2466082], 'C': [2541652], 'T': [2482468], 'G': [2509798]}\n",
      "GC-content:  0.505145\n",
      "**Neanderthal**\n",
      "{'A': [2412454], 'C': [2586730], 'T': [2565766], 'G': [2435050]}\n",
      "GC-content:  0.502178\n"
     ]
    }
   ],
   "source": [
    "human_alphabet = {'A':[0], 'C':[0],'T':[0], 'G':[0]}\n",
    "neanderthal_alphabet = {'A':[0], 'C':[0], 'T':[0], 'G':[0]}\n",
    "for (i,j) in zip(H_DNA,N_DNA):\n",
    "    human_alphabet[i][0] += 1\n",
    "    neanderthal_alphabet[j][0] += 1\n",
    "    \n",
    "print('**Human**')\n",
    "print(human_alphabet)\n",
    "print('GC-content: ',(human_alphabet['C'][0]+human_alphabet['G'][0])/len(H_DNA))\n",
    "\n",
    "print('**Neanderthal**')\n",
    "print(neanderthal_alphabet)\n",
    "print('GC-content: ',(neanderthal_alphabet['C'][0]+neanderthal_alphabet['G'][0])/len(N_DNA))"
   ]
  },
  {
   "cell_type": "code",
   "execution_count": 64,
   "metadata": {},
   "outputs": [
    {
     "name": "stdout",
     "output_type": "stream",
     "text": [
      "(20, 50000, 10)\n",
      "(20, 50000, 10)\n",
      "words,sentences,letters\n"
     ]
    }
   ],
   "source": [
    "sentence_length= 200\n",
    "word_length = 10\n",
    "\n",
    "H_DNA = np.array(H_DNA[0:(len(H_DNA)//sentence_length)*sentence_length])\n",
    "N_DNA = np.array(N_DNA[0:(len(N_DNA)//sentence_length)*sentence_length])\n",
    "\n",
    "#divide in sentences\n",
    "H_DNA_s = np.array(np.split(H_DNA, len(H_DNA)//sentence_length))\n",
    "N_DNA_s = np.array(np.split(N_DNA, len(N_DNA)//sentence_length))\n",
    "\n",
    "#divide in words\n",
    "H_DNA_w = np.array(np.split(H_DNA_s, sentence_length//word_length, axis=1  ))\n",
    "N_DNA_w = np.array(np.split(N_DNA_s, sentence_length//word_length , axis=1 ))\n",
    "\n",
    "print(H_DNA_w.shape)\n",
    "print(N_DNA_w.shape)\n",
    "print(\"words,sentences,letters\")"
   ]
  },
  {
   "cell_type": "markdown",
   "metadata": {},
   "source": [
    "intr_texts = [' '.join(getKmers(i, kmer)) for i in intr_seqs]\n",
    "depl_texts = [' '.join(getKmers(i, kmer)) for i in depl_seqs]"
   ]
  },
  {
   "cell_type": "code",
   "execution_count": 65,
   "metadata": {},
   "outputs": [],
   "source": [
    "#make words strings.\n",
    "Human_DNA = np.array([[''.join(H_DNA_w[i,j]) for i in range(H_DNA_w.shape[0]) ]for \n",
    "                  j in range(H_DNA_w.shape[1])])\n",
    "#make words strings.\n",
    "Neanderthal_DNA = np.array([[''.join(N_DNA_w[i,j]) for i in range(N_DNA_w.shape[0]) ]for \n",
    "                  j in range(N_DNA_w.shape[1])])\n",
    "\n",
    "depl_texts = [' '.join(Human_DNA[i,:]) for i in range(Human_DNA.shape[0])]\n",
    "intr_texts = [' '.join(Neanderthal_DNA[i,:]) for i in range(Neanderthal_DNA.shape[0])]"
   ]
  },
  {
   "cell_type": "code",
   "execution_count": 66,
   "metadata": {},
   "outputs": [
    {
     "name": "stdout",
     "output_type": "stream",
     "text": [
      "100000\n",
      "100000\n"
     ]
    }
   ],
   "source": [
    "merge_texts = intr_texts + depl_texts\n",
    "print(len(merge_texts))\n",
    "labels = list(np.ones(len(intr_texts))) + list(np.zeros(len(depl_texts)))\n",
    "print(len(labels))"
   ]
  },
  {
   "cell_type": "code",
   "execution_count": 67,
   "metadata": {},
   "outputs": [
    {
     "name": "stdout",
     "output_type": "stream",
     "text": [
      "Default GPU Device: /device:GPU:0\n"
     ]
    }
   ],
   "source": [
    "import tensorflow as tensorflow\n",
    "from tensorflow.keras.models import Sequential\n",
    "from tensorflow.keras.callbacks import ModelCheckpoint\n",
    "from tensorflow.keras.optimizers import SGD, Adam, Adadelta, RMSprop\n",
    "from tensorflow.keras.layers import Conv1D, Dense, MaxPooling1D, Flatten, Dropout, concatenate, SpatialDropout1D\n",
    "from tensorflow.keras.layers import Embedding, GlobalAveragePooling1D, LSTM, Bidirectional, Attention\n",
    "from tensorflow.keras import regularizers\n",
    "\n",
    "from tensorflow.keras.preprocessing.text import Tokenizer\n",
    "from tensorflow.keras.preprocessing.sequence import pad_sequences\n",
    "from sklearn.feature_extraction.text import CountVectorizer\n",
    "\n",
    "if tensorflow.test.gpu_device_name():\n",
    "    print('Default GPU Device: {}'.format(tensorflow.test.gpu_device_name()))\n",
    "else:\n",
    "    print(\"Please install GPU version of tensorflow\")"
   ]
  },
  {
   "cell_type": "code",
   "execution_count": 68,
   "metadata": {},
   "outputs": [
    {
     "name": "stdout",
     "output_type": "stream",
     "text": [
      "[[227057  27634  45932 ...  34925 404638 136246]\n",
      " [227059 136247   4268 ...   5539  15199 227061]\n",
      " [  3393  45936   1628 ...    353 136249  89223]\n",
      " ...\n",
      " [197485   1673 320285 ...  21734 135853 403451]\n",
      " [ 74967 233967 112407 ...     12 711933 711934]\n",
      " [109141 401116 134096 ... 711936 257738 257556]]\n",
      "\n",
      "\n",
      "(100000, 20)\n"
     ]
    }
   ],
   "source": [
    "import warnings\n",
    "warnings.filterwarnings('ignore')\n",
    "\n",
    "tokenizer = Tokenizer()\n",
    "tokenizer.fit_on_texts(merge_texts)\n",
    "\n",
    "encoded_docs = tokenizer.texts_to_sequences(merge_texts)\n",
    "max_length = max([len(s.split()) for s in merge_texts])\n",
    "X = pad_sequences(encoded_docs, maxlen = max_length, padding = 'post')\n",
    "\n",
    "print(X)\n",
    "print('\\n')\n",
    "print(X.shape)"
   ]
  },
  {
   "cell_type": "code",
   "execution_count": 69,
   "metadata": {},
   "outputs": [],
   "source": [
    "from sklearn.model_selection import train_test_split\n",
    "X_train, X_test, y_train, y_test = train_test_split(X, labels, test_size = 0.20, shuffle = True)"
   ]
  },
  {
   "cell_type": "code",
   "execution_count": 70,
   "metadata": {},
   "outputs": [
    {
     "name": "stdout",
     "output_type": "stream",
     "text": [
      "(80000, 20)\n",
      "(20000, 20)\n"
     ]
    }
   ],
   "source": [
    "print(X_train.shape)\n",
    "print(X_test.shape)\n",
    "y_train = np.asarray(y_train)\n",
    "y_test = np.asarray(y_test)"
   ]
  },
  {
   "cell_type": "code",
   "execution_count": 71,
   "metadata": {},
   "outputs": [
    {
     "name": "stdout",
     "output_type": "stream",
     "text": [
      "20\n"
     ]
    }
   ],
   "source": [
    "max_length = max([len(s.split()) for s in merge_texts])\n",
    "print(max_length)"
   ]
  },
  {
   "cell_type": "code",
   "execution_count": 72,
   "metadata": {},
   "outputs": [
    {
     "name": "stdout",
     "output_type": "stream",
     "text": [
      "711937\n"
     ]
    }
   ],
   "source": [
    "vocab_size = len(tokenizer.word_index) + 1\n",
    "print(vocab_size)"
   ]
  },
  {
   "cell_type": "code",
   "execution_count": 73,
   "metadata": {},
   "outputs": [
    {
     "name": "stdout",
     "output_type": "stream",
     "text": [
      "Model: \"sequential_11\"\n",
      "_________________________________________________________________\n",
      "Layer (type)                 Output Shape              Param #   \n",
      "=================================================================\n",
      "embedding_11 (Embedding)     (None, None, 10)          7119370   \n",
      "_________________________________________________________________\n",
      "bidirectional_11 (Bidirectio (None, 10)                640       \n",
      "_________________________________________________________________\n",
      "dense_17 (Dense)             (None, 10)                110       \n",
      "_________________________________________________________________\n",
      "dense_18 (Dense)             (None, 1)                 11        \n",
      "=================================================================\n",
      "Total params: 7,120,131\n",
      "Trainable params: 7,120,131\n",
      "Non-trainable params: 0\n",
      "_________________________________________________________________\n",
      "None\n",
      "Train on 64000 samples, validate on 16000 samples\n",
      "Epoch 1/5\n",
      "64000/64000 - 87s - loss: 0.6863 - accuracy: 0.5398 - val_loss: 0.6774 - val_accuracy: 0.5694\n",
      "Epoch 2/5\n",
      "64000/64000 - 80s - loss: 0.3883 - accuracy: 0.8311 - val_loss: 0.8809 - val_accuracy: 0.5541\n",
      "Epoch 3/5\n",
      "64000/64000 - 90s - loss: 0.1494 - accuracy: 0.9428 - val_loss: 1.1469 - val_accuracy: 0.5497\n",
      "Epoch 4/5\n",
      "64000/64000 - 83s - loss: 0.0718 - accuracy: 0.9733 - val_loss: 1.3897 - val_accuracy: 0.5455\n",
      "Epoch 5/5\n",
      "64000/64000 - 85s - loss: 0.0409 - accuracy: 0.9850 - val_loss: 1.6212 - val_accuracy: 0.5381\n"
     ]
    },
    {
     "data": {
      "text/plain": [
       "<tensorflow.python.keras.callbacks.History at 0x7f21c1fcac90>"
      ]
     },
     "execution_count": 73,
     "metadata": {},
     "output_type": "execute_result"
    }
   ],
   "source": [
    "model = Sequential()\n",
    "d = 10\n",
    "model.add(Embedding(vocab_size, d)) \n",
    "model.add(Bidirectional(LSTM(int(d/2))))\n",
    "model.add(Dense(10, activation = 'relu'))\n",
    "model.add(Dense(1, activation = 'sigmoid'))\n",
    "\n",
    "model.compile(loss = 'binary_crossentropy', optimizer = 'rmsprop', metrics = ['accuracy'])\n",
    "\n",
    "checkpoint = ModelCheckpoint(\"weights.best.hdf5\", monitor = 'val_acc', verbose = 1, \n",
    "                             save_best_only = True, mode = 'max')\n",
    "print(model.summary())\n",
    "\n",
    "model.compile(loss = 'binary_crossentropy', optimizer = 'rmsprop', metrics = ['accuracy'])\n",
    "\n",
    "epochs = 5\n",
    "\n",
    "model.fit(X_train, y_train, \n",
    "                    epochs = epochs, verbose = 2, validation_split = 0.2, shuffle = True)"
   ]
  },
  {
   "cell_type": "code",
   "execution_count": 74,
   "metadata": {},
   "outputs": [
    {
     "data": {
      "image/png": "[encoded data removed]",
      "text/plain": [
       "<Figure size 432x288 with 2 Axes>"
      ]
     },
     "metadata": {
      "needs_background": "light"
     },
     "output_type": "display_data"
    }
   ],
   "source": [
    "from sklearn.metrics import confusion_matrix\n",
    "import matplotlib.pyplot as plt\n",
    "import itertools\n",
    "\n",
    "predicted_labels = model.predict(X_test)\n",
    "cm = confusion_matrix(y_test, [np.round(i[0]) for i in predicted_labels])\n",
    "cm = cm.astype('float') / cm.sum(axis = 1)[:, np.newaxis]\n",
    "\n",
    "plt.imshow(cm, cmap = plt.cm.Blues)\n",
    "plt.title('Normalized confusion matrix', fontsize = 15)\n",
    "plt.colorbar()\n",
    "plt.xlabel('True label', fontsize = 15)\n",
    "plt.ylabel('Predicted label', fontsize = 15)\n",
    "for i, j in itertools.product(range(cm.shape[0]), range(cm.shape[1])):\n",
    "    plt.text(j, i, format(cm[i, j], '.2f'),\n",
    "             horizontalalignment = 'center', verticalalignment = 'center', fontsize = 20,\n",
    "             color='white' if cm[i, j] > 0.5 else 'black')\n",
    "plt.show()"
   ]
  },
  {
   "cell_type": "markdown",
   "metadata": {},
   "source": [
    "### With Kmers"
   ]
  },
  {
   "cell_type": "code",
   "execution_count": 75,
   "metadata": {},
   "outputs": [],
   "source": [
    "with open('human_4bases_0.txt', mode='r') as f:\n",
    "    H_DNA = f.read().rstrip('\\n')\n",
    "    f.close()\n",
    "with open('neanderthal_4bases_0.txt', mode='r') as f:\n",
    "    N_DNA = f.read().rstrip('\\n')\n",
    "    f.close()"
   ]
  },
  {
   "cell_type": "code",
   "execution_count": 76,
   "metadata": {},
   "outputs": [],
   "source": [
    "H_DNA = [i for i in H_DNA]\n",
    "N_DNA = [i for i in N_DNA]"
   ]
  },
  {
   "cell_type": "code",
   "execution_count": 77,
   "metadata": {},
   "outputs": [
    {
     "name": "stdout",
     "output_type": "stream",
     "text": [
      "**Human**\n",
      "{'A': [2466082], 'C': [2541652], 'T': [2482468], 'G': [2509798]}\n",
      "GC-content:  0.505145\n",
      "**Neanderthal**\n",
      "{'A': [2412454], 'C': [2586730], 'T': [2565766], 'G': [2435050]}\n",
      "GC-content:  0.502178\n"
     ]
    }
   ],
   "source": [
    "human_alphabet = {'A':[0], 'C':[0],'T':[0], 'G':[0]}\n",
    "neanderthal_alphabet = {'A':[0], 'C':[0], 'T':[0], 'G':[0]}\n",
    "for (i,j) in zip(H_DNA,N_DNA):\n",
    "    human_alphabet[i][0] += 1\n",
    "    neanderthal_alphabet[j][0] += 1\n",
    "    \n",
    "print('**Human**')\n",
    "print(human_alphabet)\n",
    "print('GC-content: ',(human_alphabet['C'][0]+human_alphabet['G'][0])/len(H_DNA))\n",
    "\n",
    "print('**Neanderthal**')\n",
    "print(neanderthal_alphabet)\n",
    "print('GC-content: ',(neanderthal_alphabet['C'][0]+neanderthal_alphabet['G'][0])/len(N_DNA))"
   ]
  },
  {
   "cell_type": "code",
   "execution_count": 78,
   "metadata": {},
   "outputs": [],
   "source": [
    "sentence_length= 200\n",
    "\n",
    "H_DNA = np.array(H_DNA[0:(len(H_DNA)//sentence_length)*sentence_length])\n",
    "N_DNA = np.array(N_DNA[0:(len(N_DNA)//sentence_length)*sentence_length])\n",
    "\n",
    "#divide in sentences\n",
    "H_DNA_s= np.array(np.split(H_DNA, len(H_DNA)//sentence_length))\n",
    "N_DNA_s= np.array(np.split(N_DNA, len(N_DNA)//sentence_length))\n",
    "\n",
    "H_DNA_s = [''.join(i) for i in H_DNA_s]\n",
    "N_DNA_s = [''.join(i) for i in N_DNA_s]"
   ]
  },
  {
   "cell_type": "code",
   "execution_count": 79,
   "metadata": {},
   "outputs": [
    {
     "name": "stdout",
     "output_type": "stream",
     "text": [
      "KMER:  10\n"
     ]
    }
   ],
   "source": [
    "def getKmers(sequence, size):\n",
    "    return [sequence[x:x+size] for x in range(len(sequence) - size + 1)]\n",
    "\n",
    "kmer = [10]\n",
    "for k in kmer:\n",
    "    print('KMER: ', k)\n",
    "    intr_texts = [' '.join(map(str, (getKmers(i, k)))) for i in N_DNA_s]\n",
    "    depl_texts = [' '.join(map(str, (getKmers(i, k)))) for i in H_DNA_s]"
   ]
  },
  {
   "cell_type": "code",
   "execution_count": 80,
   "metadata": {},
   "outputs": [
    {
     "name": "stdout",
     "output_type": "stream",
     "text": [
      "20000\n",
      "20000\n"
     ]
    }
   ],
   "source": [
    "merge_texts = intr_texts + depl_texts\n",
    "\n",
    "tokenizer = Tokenizer()\n",
    "tokenizer.fit_on_texts(merge_texts)\n",
    "#X = tokenizer.texts_to_matrix(merge_texts, mode = 'freq')\n",
    "\n",
    "encoded_docs = tokenizer.texts_to_sequences(merge_texts)\n",
    "max_length = max([len(s.split()) for s in merge_texts])\n",
    "X = pad_sequences(encoded_docs, maxlen = max_length, padding = 'post')\n",
    "labels = list(np.ones(len(intr_texts))) + list(np.zeros(len(depl_texts)))\n",
    "print(len(X))\n",
    "print(len(labels))\n",
    "X_train, X_test, y_train, y_test = train_test_split(X, labels, test_size = 0.20, random_state = 42)"
   ]
  },
  {
   "cell_type": "code",
   "execution_count": 81,
   "metadata": {},
   "outputs": [
    {
     "data": {
      "text/plain": [
       "1047277"
      ]
     },
     "execution_count": 81,
     "metadata": {},
     "output_type": "execute_result"
    }
   ],
   "source": [
    "y_train = np.asarray(y_train)\n",
    "y_test = np.asarray(y_test)\n",
    "vocab_size = len(tokenizer.word_index) + 1\n",
    "vocab_size"
   ]
  },
  {
   "cell_type": "code",
   "execution_count": 82,
   "metadata": {},
   "outputs": [
    {
     "data": {
      "text/plain": [
       "array([  32451,  360924,  224412,  143928,  533799,  453770,  232738,\n",
       "         86812,  317671,  101280,  169216,  136815,   46084,   27783,\n",
       "        160341,  731122,  533980,  650758,  297668,  240810,  133981,\n",
       "        227708,  152521,   24942,   49561,   58554,  119323,   81765,\n",
       "         68222,   87524,   73805,  108581,  208008,  457692,  343564,\n",
       "        239891,  894165, 1009915,  644202,  760098,  870391,  470329,\n",
       "        976203,  567806,  204490,  516056,  437207,  451633,  870392,\n",
       "        526826,  455556,  135611,   51388,   53771,   99378,   18602,\n",
       "          3489,     761,     985,    5044,    8013,   32591,  149683,\n",
       "        442381,  122266,  126469,  209437,   62206,   42394,    6654,\n",
       "           990,    8088,   22362,   13295,   16242,    4476,    1780,\n",
       "          1205,    2358,    3840,    1247,    5568,   12700,   13948,\n",
       "         15232,   89100,  257881,  263393,  265726,  241201,  345236,\n",
       "        266546,  119903,  374610,  304108,  429475,  130647,   79456,\n",
       "        211233,  141322,  129634,  552699,  261797,  458212,  457944,\n",
       "        418134,  561980,  913615,  765946, 1009916,  492767,  362593,\n",
       "        105479,  193056,   89785,  156452,   45174,   46155,   36334,\n",
       "         65286,  459617,  391661,  513763,  948531,  774653,  551010,\n",
       "        379764,  202260,  117145,  102634,  190935,  104017,   26308,\n",
       "         36716,   20070,  112948,  240060,  392802,  565656,  257054,\n",
       "        804159,  789327,  618212,  247112,  135378,   24096,    3577,\n",
       "          6837,    4074,    6428,    8480,    1341,    1415,    1310,\n",
       "          1135,    1011,     345,      55,      13,       2,      14,\n",
       "            41,      52,     350,    3729,   39524,   96736,   92928,\n",
       "        253985,  357086,  164792,  457132,  964050,  856661,  785582,\n",
       "        448431,  315987,  656345,  787934,  371232,   61511,  297899,\n",
       "         58354,   28891,   72742,   51339,  113079,   64064,  263855,\n",
       "        664989,  668747,  344848,  734001, 1042481,  967283,  508685,\n",
       "        307745,  573517,  928948,  735546,  783018,  709261,  532710,\n",
       "        491322,  263203,   80681,   51517,   41411,   42975,   71409,\n",
       "         51229,   63929,   44905,   91302,  312451,  651047,  943917,\n",
       "        797597,  319087,  281874,   55985,  115277,   27316,  169641,\n",
       "         26594,   33928,   12792,   12400,   11982,   72504,  176680,\n",
       "        148438,  302864,   88992,  280848,   99841,   74661,  312869,\n",
       "        244307,   43074,   63234,   11725,   63248,   82546,   83045,\n",
       "        254357,  453636,  265592,  115256,   30244,   23254,   23412,\n",
       "        137391,   73269,   23775,    6161,    3813,   25075,   84833,\n",
       "         98665,   58628,   48140,  110721,  378072,  153051,   63310,\n",
       "         49796,  332441,  340095,  531577,  588423,  113403,  378577,\n",
       "        909252,  823124,  236362,  755151,  468462,  668748,  804160,\n",
       "        222832,   42216,  141212,  142085,   33487,   21584,   20911,\n",
       "         19736,   22274,   24276,  114613,  128991,  316618,  448256,\n",
       "        361358,  238575,  302405,  180018,  193133,   77097,   21756,\n",
       "         21222,   10239,    1751,    1345,     934,    1231,    7144,\n",
       "         28376,  167879,  260384,   95557,  204597,  141519,  313507,\n",
       "        415208,  605347,  622658,  566954,  668749,  735547,  592705,\n",
       "        409588,  267901,  331454,  132048,  115872,  131611,   34955,\n",
       "        112209,   61767,   15054,    1691,    1549,   14201,   14202,\n",
       "          1751,    1345,    5677,    1665,    1736,    1586,    1553,\n",
       "          7217,    2946,   14727,   24132,   26519,    3049,   22807,\n",
       "        118266,  123858,   89409,   34217,    9614,   12314,   14574,\n",
       "         10548,   54949,   39947,   20967,   46908,  378298,  193438,\n",
       "        264820,   42694,   26664,   16612,    2747,    3761,    1290,\n",
       "          1151,    1036,    5628,   31405,   63644,   91256,   82531,\n",
       "        255652,  219999,  393699,  236961,  332401,  351470,  238683,\n",
       "        249206,  511720,  433731,  535942,  554289,  511232,  449081,\n",
       "         89363,  293371,  371040,  456145,  301515,  342116,  122735,\n",
       "        408140,  260261,  453807,  260276,  434507,  218036,  695895,\n",
       "        333264,  598685,  598686,  792333,  745884,  101411,   50106,\n",
       "         14564,    1616,     950,      95,      80,      23,      20,\n",
       "           218,    1195,    1468,    8029,   12229,   10925,   11322,\n",
       "         60464,   36740,   82393,   54672,   67846,  252386,  125649,\n",
       "        717636,  366938,  297766,  385489,  479253,   97950,   15056,\n",
       "         10094,    1588,    6033,    1414,    6142,   21064,    7961,\n",
       "         54196,  119255,  644651,  667749,  870393,  605348,  552995,\n",
       "        560406,  326064,  335815,  183978,  287806,  175801,  264366,\n",
       "        321669,  215018,   47649,   12058,   12642,   40259,  179168,\n",
       "        228340,  143684,  435693,  266375,  227752,  545364,  848945,\n",
       "        412276,   95370,   63706,    8599,    9142,    5935,     565,\n",
       "          3418,     724,    6249,   27206,   77174,  137334,  216859,\n",
       "        159309,  369333,  735548,  515238,  248013,  544945,  459176,\n",
       "        524828,  431296,  222946,  394510,  184771,   53015,   49279,\n",
       "         78139,  122140,   27640,  293257,  248241,  320771,  223240,\n",
       "        270985,  676039,  964387,  661478,  753415,  971052,  804161,\n",
       "        453808,  496623,  709058,  709059,  547650,  668750,  756122,\n",
       "       1009917,  800337,  584394,  484387,  226178,  855011,  793479,\n",
       "        496692,  965954,  391582,  103156,   24737,    5660,     917,\n",
       "           104,     779,    3253,   23130,   16169,   21916,   29060,\n",
       "        103939,  101320,  133597,  115395,  115483,   81868,  127645,\n",
       "        184272,  161535,  266188,  597104,  340536,  643244,  442172,\n",
       "        545330,  961661,  336634,  605349,  886563,  857674,  668751,\n",
       "        970666,  431100,  763686,  476260,  884918,  919266,  660391,\n",
       "        543707,  504879,  706943,  976204,  542564,  258301,  172370,\n",
       "        184393,  487370,  308648,  491273,  290555,   85006,  396014,\n",
       "        902372,  819283,  926726,  691182,  804162,  760498,  226326,\n",
       "        204853,   89214,   23466,   29952,   19767,   20573,   46882,\n",
       "         28397,   76234,   67818,  585275,  417860,  430361,  338395,\n",
       "         62286,   64953,   35738,    7700,    8071,    2995,     907,\n",
       "            94,     836,    1669,    7626,    4443,   11749,   78223,\n",
       "        301823,  304505,  796020,  823592,  870394,  689712,  275754,\n",
       "         63291,   60222,   55156,   14846,    9895,    1674,     875,\n",
       "           717,    4549,    8280,   35524,  191127,   97188,  118872,\n",
       "        649233,  923287,  804163,  623632,  668219,  624721,  463650,\n",
       "        750595,  387644,  534726,  342314,  144167,   75503,   59769,\n",
       "         13588,    1205,    2358,    1390,     767,    1483,   12293,\n",
       "         15690,   81722,  227447,  243466,  208516,  235671,  327842,\n",
       "        535343,  587159,  246334,  215433,   38112,   11547,   39984,\n",
       "         21976,   33056,   29898,   12844,    1747,    1627,    1724,\n",
       "         11641,   18871,   15687,   14378,    1853,    1791,    8221,\n",
       "         17590,   16782,   15943,   24880,   74394,   47255,   22359,\n",
       "          3668,     503,     145,      61,      56,     149,    1169,\n",
       "          2044,    3523,    3732,    4694,    2957,   18093,   12338,\n",
       "         28553,   10744,   13433,   85000,  315833,  403451,  595712,\n",
       "        324327,   75535,   47861,   65996,  147768,   50810,   10177,\n",
       "         12192,   28918,   69183,   63541,   57675,  290107,  191005,\n",
       "         55287,   46188,  172264,   85180,   75228,   75229,   72344,\n",
       "         56328,   13773,   13931,   14960,    8817,    1345,     934,\n",
       "          1239,    6293,   35175,   88234,  117350,   80499,  218851,\n",
       "        948208,  694823,  865188,  378800,  290701,  420662,  679411,\n",
       "        378826,  618991,  387480,  230500,   44552,   82628,   11805,\n",
       "         32681,   30109,   90991,  180954,  204591,  430009,  241341,\n",
       "        244115,  605350,  445292,  583873,  643089,   90007,  118876,\n",
       "        142085,   62057,   60185,  128475,   27839,   57587,   28454,\n",
       "         62512,   36202,   25645,   32724,   17594,   74910,  133291,\n",
       "        109982,  166589,   68242,   95952,  211386,  530228,  311513,\n",
       "        292441,  238406,  430169,  568179,  516489,  690318,  494710,\n",
       "        369066,  476389,  394334,  220642,  259489,  191037,   70048,\n",
       "         76767,   70049,  164664,  154859,  127710,  248745,  169315,\n",
       "         39552,   53753,  175322,  178639,  128892,   69758,    8666,\n",
       "          1458,    1305,    4700,   18435,    3407,    2456,   17669,\n",
       "         28552,   65483,   55032,  117169,  110361,  109614,   74355,\n",
       "        114907,  116679,   88461,   19347,   32091,   45468,  103437,\n",
       "        190556,  316045,  205860,   47863,  164397,  136381,   82637,\n",
       "         16164,   16058,   69870,   82166,   52775,   63659,   16365,\n",
       "         17053,   68983,  117894,   41428,   18411,   79308,   62741,\n",
       "         11540,   23455,    5954,    6732,   12023,   11810,   45605,\n",
       "         12849,   12941,   11219,    3493,     630,     353,      48,\n",
       "           225,     198,      24,     490,    1084,    1190,    1164,\n",
       "           905,    6458,    5333,     899,    5245,    6833,    6291,\n",
       "         33805,  123328,  206743,  225959,   84196,   30905,    7651,\n",
       "          3120,    7552,    3369,    5995,   38985,    7415,   80388,\n",
       "        198043,  541495,  914564,  570466,  589368,  216984,  448145,\n",
       "        219341,  122931,   26564,    3592,    2385,    2446,   14571,\n",
       "          8729,    1833,    9426,   18949,  105681,  106556,  129317,\n",
       "        140393,  181657,   86779,   24525,   16031,   16430,    6973,\n",
       "         23655,    8906,     785,    7465,   13907,   60208,   64941,\n",
       "        415281,   98293,   43682,   12443,   12798,    4030,     607,\n",
       "           192,      17,     163,      19,      24,     490,    1084,\n",
       "          1190,    1164,     905,   10341,   19498,   10106,   17288,\n",
       "         21593,    2213,   23864,  126220,  149589,   61966,   20870,\n",
       "          6096,    1017,     881,    4946,   19049,   18005,   15540,\n",
       "         42855,   82785,  190811,  533423], dtype=int32)"
      ]
     },
     "execution_count": 82,
     "metadata": {},
     "output_type": "execute_result"
    }
   ],
   "source": [
    "X_train[0]"
   ]
  },
  {
   "cell_type": "code",
   "execution_count": 83,
   "metadata": {},
   "outputs": [
    {
     "name": "stdout",
     "output_type": "stream",
     "text": [
      "Model: \"sequential_12\"\n",
      "_________________________________________________________________\n",
      "Layer (type)                 Output Shape              Param #   \n",
      "=================================================================\n",
      "embedding_12 (Embedding)     (None, None, 10)          10472770  \n",
      "_________________________________________________________________\n",
      "bidirectional_12 (Bidirectio (None, 20)                1680      \n",
      "_________________________________________________________________\n",
      "dense_19 (Dense)             (None, 1)                 21        \n",
      "=================================================================\n",
      "Total params: 10,474,471\n",
      "Trainable params: 10,474,471\n",
      "Non-trainable params: 0\n",
      "_________________________________________________________________\n",
      "None\n",
      "Train on 12800 samples, validate on 3200 samples\n",
      "Epoch 1/5\n",
      "12800/12800 - 92s - loss: 0.6933 - accuracy: 0.4980 - val_loss: 0.6930 - val_accuracy: 0.5138\n",
      "Epoch 2/5\n",
      "12800/12800 - 86s - loss: 0.5421 - accuracy: 0.7898 - val_loss: 0.7076 - val_accuracy: 0.5669\n",
      "Epoch 3/5\n",
      "12800/12800 - 87s - loss: 0.0648 - accuracy: 0.9893 - val_loss: 1.0249 - val_accuracy: 0.5675\n",
      "Epoch 4/5\n",
      "12800/12800 - 87s - loss: 0.0024 - accuracy: 0.9999 - val_loss: 1.5489 - val_accuracy: 0.5441\n",
      "Epoch 5/5\n",
      "12800/12800 - 84s - loss: 3.8467e-04 - accuracy: 1.0000 - val_loss: 1.9264 - val_accuracy: 0.5256\n",
      "Accuracy: 50.17%\n"
     ]
    }
   ],
   "source": [
    "d = 10\n",
    "model = Sequential()\n",
    "model.add(Embedding(vocab_size, d)) #dropout = 0.2 #input_length = max_length\n",
    "model.add(Bidirectional(LSTM(int(10)))) #dropout = 0.2, recurrent_dropout = 0.2)\n",
    "model.add(Dense(1, activation = 'sigmoid'))\n",
    "\n",
    "epochs = 5\n",
    "model.compile(loss = 'binary_crossentropy', optimizer = 'rmsprop', metrics = ['accuracy'])\n",
    "#checkpoint = ModelCheckpoint(\"weights.best.hdf5\", monitor = 'val_acc', verbose = 1, \n",
    "#                             save_best_only = True, mode = 'max')\n",
    "\n",
    "print(model.summary())\n",
    "\n",
    "history = model.fit(X_train, y_train, \n",
    "                    epochs = epochs, verbose = 2, validation_split = 0.2, batch_size = 32, shuffle = True, \n",
    "#                    callbacks = [checkpoint]\n",
    "                   )\n",
    "\n",
    "predicted_labels = model.predict(X_test)\n",
    "cm = confusion_matrix(y_test, [np.round(i[0]) for i in predicted_labels])\n",
    "cm = cm.astype('float') / cm.sum(axis = 1)[:, np.newaxis]\n",
    "\n",
    "scores = model.evaluate(X_test, y_test, verbose = 0)\n",
    "print(\"Accuracy: %.2f%%\" % (scores[1]*100))"
   ]
  },
  {
   "cell_type": "code",
   "execution_count": 84,
   "metadata": {},
   "outputs": [
    {
     "data": {
      "image/png": "[encoded data removed]",
      "text/plain": [
       "<Figure size 432x288 with 2 Axes>"
      ]
     },
     "metadata": {
      "needs_background": "light"
     },
     "output_type": "display_data"
    }
   ],
   "source": [
    "from sklearn.metrics import confusion_matrix\n",
    "import matplotlib.pyplot as plt\n",
    "import itertools\n",
    "\n",
    "predicted_labels = model.predict(X_test)\n",
    "cm = confusion_matrix(y_test, [np.round(i[0]) for i in predicted_labels])\n",
    "cm = cm.astype('float') / cm.sum(axis = 1)[:, np.newaxis]\n",
    "\n",
    "plt.imshow(cm, cmap = plt.cm.Blues)\n",
    "plt.title('Normalized confusion matrix', fontsize = 15)\n",
    "plt.colorbar()\n",
    "plt.xlabel('True label', fontsize = 15)\n",
    "plt.ylabel('Predicted label', fontsize = 15)\n",
    "for i, j in itertools.product(range(cm.shape[0]), range(cm.shape[1])):\n",
    "    plt.text(j, i, format(cm[i, j], '.2f'),\n",
    "             horizontalalignment = 'center', verticalalignment = 'center', fontsize = 20,\n",
    "             color='white' if cm[i, j] > 0.5 else 'black')\n",
    "plt.show()"
   ]
  },
  {
   "cell_type": "code",
   "execution_count": null,
   "metadata": {},
   "outputs": [],
   "source": []
  }
 ],
 "metadata": {
  "kernelspec": {
   "display_name": "Python 3",
   "language": "python",
   "name": "python3"
  },
  "language_info": {
   "codemirror_mode": {
    "name": "ipython",
    "version": 3
   },
   "file_extension": ".py",
   "mimetype": "text/x-python",
   "name": "python",
   "nbconvert_exporter": "python",
   "pygments_lexer": "ipython3",
   "version": "3.7.6"
  }
 },
 "nbformat": 4,
 "nbformat_minor": 4
}
