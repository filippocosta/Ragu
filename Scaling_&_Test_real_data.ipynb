{
 "cells": [
  {
   "cell_type": "markdown",
   "metadata": {},
   "source": [
    "## Scaling Analysis of Introgressed/Depleted sequences"
   ]
  },
  {
   "cell_type": "code",
   "execution_count": 1,
   "metadata": {},
   "outputs": [],
   "source": [
    "import os\n",
    "from Bio import SeqIO\n",
    "import numpy as np\n",
    "import sys\n",
    "import matplotlib.pyplot as plt\n",
    "import scipy\n",
    "from scipy import signal "
   ]
  },
  {
   "cell_type": "code",
   "execution_count": 2,
   "metadata": {},
   "outputs": [
    {
     "name": "stdout",
     "output_type": "stream",
     "text": [
      "Finished 10000 entries\n",
      "Finished 20000 entries\n",
      "Finished 30000 entries\n",
      "Finished 40000 entries\n",
      "Finished 50000 entries\n",
      "Finished 60000 entries\n",
      "Finished 70000 entries\n"
     ]
    }
   ],
   "source": [
    "intr_file = '../ubuntu/data/hg19_intr_clean.fa'\n",
    "depl_file = '../ubuntu/data/hg19_depl_clean.fa'\n",
    "\n",
    "a = 0\n",
    "intr_seqs = []\n",
    "depl_seqs = []\n",
    "for intr, depl in zip(SeqIO.parse(intr_file, 'fasta'), SeqIO.parse(depl_file, 'fasta')):\n",
    "    s_intr = str(intr.seq)\n",
    "    s_depl = str(depl.seq)\n",
    "    if s_intr.count('A')>0 and s_intr.count('C')>0 and s_intr.count('G')>0 and s_intr.count('T')>0 and \\\n",
    "    s_depl.count('A')>0 and s_depl.count('C')>0 and s_depl.count('G')>0 and s_depl.count('T')>0:\n",
    "        intr_seqs.append(s_intr)\n",
    "        depl_seqs.append(s_depl)\n",
    "    a = a + 1\n",
    "    if a%10000 == 0:\n",
    "        print('Finished ' + str(a) + ' entries')\n"
   ]
  },
  {
   "cell_type": "code",
   "execution_count": 3,
   "metadata": {},
   "outputs": [
    {
     "name": "stdout",
     "output_type": "stream",
     "text": [
      "18724\n"
     ]
    },
    {
     "data": {
      "image/png": "[encoded data removed]",
      "text/plain": [
       "<Figure size 432x288 with 1 Axes>"
      ]
     },
     "metadata": {
      "needs_background": "light"
     },
     "output_type": "display_data"
    }
   ],
   "source": [
    "lenghts = [len(intr_seqs[i]) for i in range(len(intr_seqs))]\n",
    "plt.hist(lenghts, density=True, bins=100)\n",
    "plt.show()"
   ]
  },
  {
   "cell_type": "code",
   "execution_count": 4,
   "metadata": {},
   "outputs": [],
   "source": [
    "def Corr(s,r,alphabet):\n",
    "    bases = ['A','C','T','G']\n",
    "    C = 0\n",
    "    freq = 0\n",
    "    s1 = s[:-r]\n",
    "    s2 = s[r:]\n",
    "    long_dist = np.equal(s1,s2)\n",
    "    long_dist = np.sum([int(long_dist[i]) for i in range(len(long_dist))])/len(long_dist)\n",
    "    for i in bases:\n",
    "        freq += (alphabet[i][0]/len(s))**2\n",
    "    C = long_dist -freq\n",
    "    return C"
   ]
  },
  {
   "cell_type": "code",
   "execution_count": 5,
   "metadata": {},
   "outputs": [],
   "source": [
    "def smooth(y, box_pts):\n",
    "        box = np.ones(box_pts)/box_pts\n",
    "        y_smooth = np.convolve(y, box, mode='same')\n",
    "        return y_smooth\n",
    "def scaling(x,a,c):\n",
    "    return c*x**(-a)"
   ]
  },
  {
   "cell_type": "code",
   "execution_count": null,
   "metadata": {},
   "outputs": [
    {
     "name": "stdout",
     "output_type": "stream",
     "text": [
      "3211th Sequence\r"
     ]
    }
   ],
   "source": [
    "np.random.shuffle(intr_seqs)\n",
    "from os import system, name \n",
    "intr_scaling_10 = []\n",
    "intr_c = []\n",
    "count = 0\n",
    "for s in intr_seqs[0:5000]:\n",
    "    \n",
    "    count += 1\n",
    "        \n",
    "    change = {'A':[0], 'C':[1], 'T':[2], 'G':[3]}\n",
    "    dna = []\n",
    "    for i in s:\n",
    "        dna.append(change[i][0])\n",
    "        \n",
    "    alphabet = {'A':[0], 'C':[0], 'T':[0], 'G':[0]}\n",
    "    for i in s:\n",
    "        alphabet[i][0] += 1\n",
    "        \n",
    "    r = np.linspace(10,100,100)\n",
    "    cr = [Corr(dna,int(ri),alphabet) for ri in r]\n",
    "    cr = smooth(cr,10)\n",
    "    try:\n",
    "        gamma = scipy.optimize.curve_fit(scaling,r[n:-m],cr[n:-m])[0]\n",
    "        intr_scaling_10.append(gamma[0])\n",
    "        intr_c.append(gamma[1])\n",
    "    except:\n",
    "        intr_scaling_10.append(-1)\n",
    "    print('{}th Sequence'.format(count), end='\\r' ,flush=True)"
   ]
  },
  {
   "cell_type": "code",
   "execution_count": null,
   "metadata": {},
   "outputs": [],
   "source": [
    "np.random.shuffle(depl_seqs)\n",
    "from os import system, name \n",
    "depl_scaling_10 = []\n",
    "depl_c = []\n",
    "count = 0\n",
    "for s in depl_seqs[0:5000]:\n",
    "    \n",
    "    count += 1\n",
    "        \n",
    "    change = {'A':[0], 'C':[1], 'T':[2], 'G':[3]}\n",
    "    dna = []\n",
    "    for i in s:\n",
    "        dna.append(change[i][0])\n",
    "        \n",
    "    alphabet = {'A':[0], 'C':[0], 'T':[0], 'G':[0]}\n",
    "    for i in s:\n",
    "        alphabet[i][0] += 1\n",
    "        \n",
    "    r = np.linspace(10,100,100)\n",
    "    cr = [Corr(dna,int(ri),alphabet) for ri in r]\n",
    "    cr = smooth(cr,10)\n",
    "    try:\n",
    "        gamma = scipy.optimize.curve_fit(scaling,r[n:-m],cr[n:-m])[0]\n",
    "        depl_scaling_10.append(gamma[0])\n",
    "        depl_c.append(gamma[1])\n",
    "    except:\n",
    "        depl_scaling_10.append(-1)\n",
    "    print('{}th Sequence'.format(count), end='\\r' ,flush=True)"
   ]
  },
  {
   "cell_type": "code",
   "execution_count": 15,
   "metadata": {},
   "outputs": [
    {
     "data": {
      "image/png": "[encoded data removed]",
      "text/plain": [
       "<Figure size 720x432 with 1 Axes>"
      ]
     },
     "metadata": {
      "needs_background": "light"
     },
     "output_type": "display_data"
    }
   ],
   "source": [
    "exponents_intr = [i for i in intr_scaling_10 if(i>=0)]\n",
    "exponents_depl = [i for i in depl_scaling_10 if(i>=0)]\n",
    "plt.figure(figsize=(10,6))\n",
    "plt.hist(exponents_depl, bins = 50, density = True, color = 'grey', alpha=1,label='Depleted')\n",
    "plt.hist(exponents_intr, bins = 50, density = True,color = 'red', alpha=0.5, label='Introgressed')\n",
    "plt.legend()\n",
    "plt.show()"
   ]
  },
  {
   "cell_type": "code",
   "execution_count": 14,
   "metadata": {},
   "outputs": [
    {
     "data": {
      "image/png": "[encoded data removed]",
      "text/plain": [
       "<Figure size 720x432 with 1 Axes>"
      ]
     },
     "metadata": {
      "needs_background": "light"
     },
     "output_type": "display_data"
    }
   ],
   "source": [
    "plt.figure(figsize=(10,6))\n",
    "plt.hist(depl_c, bins = 50, density = True, color = 'grey', alpha=1,label='Depleted')\n",
    "plt.hist(intr_c, bins = 50, density = True,color = 'red', alpha=0.5, label='Introgressed')\n",
    "plt.legend()\n",
    "plt.show()"
   ]
  },
  {
   "cell_type": "code",
   "execution_count": 16,
   "metadata": {},
   "outputs": [],
   "source": [
    "f = open(\"histo_10_100_depl.txt\", \"w\")\n",
    "f.write(str(exponents_depl))\n",
    "f.close()\n",
    "\n",
    "f = open(\"histo_10_100_intr.txt\", \"w\")\n",
    "f.write(str(exponents_intr))\n",
    "f.close()\n",
    "\n",
    "f = open(\"c_depl.txt\", \"w\")\n",
    "f.write(str(depl_c))\n",
    "f.close()\n",
    "\n",
    "f = open(\"c_intr.txt\", \"w\")\n",
    "f.write(str(intr_c))\n",
    "f.close()"
   ]
  },
  {
   "cell_type": "code",
   "execution_count": 14,
   "metadata": {},
   "outputs": [
    {
     "name": "stdout",
     "output_type": "stream",
     "text": [
      "500th Sequence\r"
     ]
    }
   ],
   "source": [
    "from os import system, name \n",
    "intr_scaling = []\n",
    "count = 0\n",
    "for s in intr_seqs[0:500]:\n",
    "    \n",
    "    count += 1\n",
    "        \n",
    "    change = {'A':[0], 'C':[1], 'T':[2], 'G':[3]}\n",
    "    dna = []\n",
    "    for i in s:\n",
    "        dna.append(change[i][0])\n",
    "        \n",
    "    alphabet = {'A':[0], 'C':[0], 'T':[0], 'G':[0]}\n",
    "    for i in s:\n",
    "        alphabet[i][0] += 1\n",
    "        \n",
    "    r = np.linspace(100,1000,100)\n",
    "    cr = [Corr(dna,int(ri),alphabet) for ri in r]\n",
    "    cr = smooth(cr,10)\n",
    "    try:\n",
    "        gamma = scipy.optimize.curve_fit(scaling,r[n:-m],cr[n:-m])[0]\n",
    "        intr_scaling.append(gamma[0])\n",
    "    except:\n",
    "        intr_scaling.append(-1)\n",
    "    print('{}th Sequence'.format(count), end='\\r' ,flush=True)"
   ]
  },
  {
   "cell_type": "code",
   "execution_count": 15,
   "metadata": {},
   "outputs": [
    {
     "name": "stdout",
     "output_type": "stream",
     "text": [
      "500th Sequence\r"
     ]
    }
   ],
   "source": [
    "from os import system, name \n",
    "depl_scaling = []\n",
    "count = 0\n",
    "for s in depl_seqs[0:500]:\n",
    "    \n",
    "    count += 1\n",
    "        \n",
    "    change = {'A':[0], 'C':[1], 'T':[2], 'G':[3]}\n",
    "    dna = []\n",
    "    for i in s:\n",
    "        dna.append(change[i][0])\n",
    "        \n",
    "    alphabet = {'A':[0], 'C':[0], 'T':[0], 'G':[0]}\n",
    "    for i in s:\n",
    "        alphabet[i][0] += 1\n",
    "        \n",
    "    r = np.linspace(100,1000,100)\n",
    "    cr = [Corr(dna,int(ri),alphabet) for ri in r]\n",
    "    cr = smooth(cr,10)\n",
    "    try:\n",
    "        gamma = scipy.optimize.curve_fit(scaling,r[n:-m],cr[n:-m])[0]\n",
    "        depl_scaling.append(gamma[0])\n",
    "    except:\n",
    "        depl_scaling.append(-1)\n",
    "    print('{}th Sequence'.format(count), end='\\r' ,flush=True)"
   ]
  },
  {
   "cell_type": "code",
   "execution_count": 19,
   "metadata": {},
   "outputs": [
    {
     "data": {
      "image/png": "[encoded data removed]",
      "text/plain": [
       "<Figure size 720x432 with 1 Axes>"
      ]
     },
     "metadata": {
      "needs_background": "light"
     },
     "output_type": "display_data"
    }
   ],
   "source": [
    "np.array(depl_scaling).reshape(len(depl_scaling))\n",
    "exponents_intr = [i for i in intr_scaling if(i>=0 )]\n",
    "exponents_depl = [i for i in depl_scaling if(i>=0 )]\n",
    "plt.figure(figsize=(10,6))\n",
    "plt.hist(exponents_depl, bins = 60, density = True, color = 'grey', alpha=0.8,label='Depleted')\n",
    "plt.hist(exponents_intr, bins = 60, density = True,color = 'red', alpha=0.8, label='Introgressed')\n",
    "plt.legend()\n",
    "plt.show()"
   ]
  },
  {
   "cell_type": "markdown",
   "metadata": {},
   "source": [
    "### Test LSTM architecture on Real Data"
   ]
  },
  {
   "cell_type": "code",
   "execution_count": 3,
   "metadata": {},
   "outputs": [
    {
     "name": "stdout",
     "output_type": "stream",
     "text": [
      "Default GPU Device: /device:GPU:0\n"
     ]
    }
   ],
   "source": [
    "import tensorflow as tensorflow\n",
    "from tensorflow.keras.models import Sequential\n",
    "from tensorflow.keras.callbacks import ModelCheckpoint\n",
    "from tensorflow.keras.optimizers import SGD, Adam, Adadelta, RMSprop\n",
    "from tensorflow.keras.layers import Conv1D, Dense, MaxPooling1D, Flatten, Dropout, concatenate, SpatialDropout1D\n",
    "from tensorflow.keras.layers import Embedding, GlobalAveragePooling1D, LSTM, Bidirectional, Attention\n",
    "from tensorflow.keras import regularizers\n",
    "\n",
    "from tensorflow.keras.preprocessing.text import Tokenizer\n",
    "from tensorflow.keras.preprocessing.sequence import pad_sequences\n",
    "from sklearn.feature_extraction.text import CountVectorizer\n",
    "\n",
    "from sklearn.metrics import confusion_matrix\n",
    "if tensorflow.test.gpu_device_name():\n",
    "    print('Default GPU Device: {}'.format(tensorflow.test.gpu_device_name()))\n",
    "else:\n",
    "    print(\"Please install GPU version of tensorflow\")"
   ]
  },
  {
   "cell_type": "code",
   "execution_count": 7,
   "metadata": {},
   "outputs": [],
   "source": [
    "#model = tensorflow.keras.models.load_model('4bases_model')\n",
    "model = tensorflow.keras.models.load_model('4bases_nikolay')"
   ]
  },
  {
   "cell_type": "code",
   "execution_count": 8,
   "metadata": {},
   "outputs": [
    {
     "name": "stdout",
     "output_type": "stream",
     "text": [
      "0.06346758483847653\n",
      "0.05350930434735322\n"
     ]
    }
   ],
   "source": [
    "exp_intr = np.fromfile('histo_10_100_intr.txt', sep = \",\")\n",
    "exp_depl = np.fromfile('histo_10_100_depl.txt', sep = \",\")\n",
    "\n",
    "mean_intr = np.mean(exp_intr)\n",
    "mean_depl = np.mean(exp_depl)\n",
    "\n",
    "c_intr = np.fromfile('c_intr.txt', sep = \",\")\n",
    "c_depl = np.fromfile('c_depl.txt', sep = \",\")\n",
    "\n",
    "mean_c_intr = np.mean(c_intr)\n",
    "mean_c_depl = np.mean(c_depl)\n",
    "print(mean_c_intr)\n",
    "print(mean_c_depl)"
   ]
  },
  {
   "cell_type": "code",
   "execution_count": 9,
   "metadata": {},
   "outputs": [
    {
     "name": "stdout",
     "output_type": "stream",
     "text": [
      "1000\n",
      "1000\n",
      "35949\n",
      "40052\n"
     ]
    }
   ],
   "source": [
    "s = 0.0001\n",
    "#mask_intr = np.logical_and(c_intr>mean_c_intr-s, c_intr<mean_c_intr+s)\n",
    "#mask_depl = np.logical_and(c_depl>mean_c_depl-s,c_depl<mean_c_depl+s)\n",
    "\n",
    "#mask_intr = np.logical_and(exp_intr>mean_intr-s, exp_intr<mean_intr+s)\n",
    "#mask_depl = np.logical_and(exp_depl>mean_depl-s, exp_depl<mean_depl+s)\n",
    "#idx_intr = np.where(mask_intr == True)\n",
    "#idx_depl = np.where(mask_depl == True)\n",
    "\n",
    "human = [depl_seqs[i] for i in range(1000)]\n",
    "neanderthal = [intr_seqs[i] for i in range(1000)]\n",
    "\n",
    "print(len(human))\n",
    "print(len(neanderthal))\n",
    "\n",
    "print(len(human[0]))\n",
    "print(len(neanderthal[0]))"
   ]
  },
  {
   "cell_type": "code",
   "execution_count": 10,
   "metadata": {},
   "outputs": [
    {
     "name": "stdout",
     "output_type": "stream",
     "text": [
      "0.045979437238489566\n",
      "0.07568838960430695\n",
      "0.1818370369743298\n",
      "0.5185596205080104\n"
     ]
    }
   ],
   "source": [
    "print(c_intr[0])\n",
    "print(c_depl[0])\n",
    "\n",
    "print(exp_intr[0])\n",
    "print(exp_depl[0])"
   ]
  },
  {
   "cell_type": "code",
   "execution_count": 11,
   "metadata": {},
   "outputs": [
    {
     "name": "stdout",
     "output_type": "stream",
     "text": [
      "1000th Couple\r"
     ]
    }
   ],
   "source": [
    "intr_cm = []\n",
    "depl_cm = []\n",
    "\n",
    "quality_intr= []\n",
    "quality_depl = []\n",
    "for k in range(min(len(human),len(neanderthal))):\n",
    "    H_DNA = human[k]\n",
    "    N_DNA = neanderthal[k]\n",
    "\n",
    "    H_DNA = [i for i in H_DNA]\n",
    "    N_DNA = [i for i in N_DNA]\n",
    "\n",
    "    sentence_length= 5000\n",
    "    word_length = 5\n",
    "\n",
    "    H_DNA = np.array(H_DNA[0:(len(H_DNA)//sentence_length)*sentence_length])\n",
    "    N_DNA = np.array(N_DNA[0:(len(N_DNA)//sentence_length)*sentence_length])\n",
    "\n",
    "    #divide in sentences\n",
    "    H_DNA_s = np.array(np.split(H_DNA, len(H_DNA)//sentence_length))\n",
    "    N_DNA_s = np.array(np.split(N_DNA, len(N_DNA)//sentence_length))\n",
    "\n",
    "    #divide in words\n",
    "    H_DNA_w = np.array(np.split(H_DNA_s, sentence_length//word_length, axis=1  ))\n",
    "    N_DNA_w = np.array(np.split(N_DNA_s, sentence_length//word_length , axis=1 ))\n",
    "\n",
    "    #make words strings.\n",
    "    Human_DNA = np.array([[''.join(H_DNA_w[i,j]) for i in range(H_DNA_w.shape[0]) ]for \n",
    "                      j in range(H_DNA_w.shape[1])])\n",
    "    #make words strings.\n",
    "    Neanderthal_DNA = np.array([[''.join(N_DNA_w[i,j]) for i in range(N_DNA_w.shape[0]) ]for \n",
    "                      j in range(N_DNA_w.shape[1])])\n",
    "\n",
    "    depl_texts = [' '.join(Human_DNA[i,:]) for i in range(Human_DNA.shape[0])]\n",
    "    intr_texts = [' '.join(Neanderthal_DNA[i,:]) for i in range(Neanderthal_DNA.shape[0])]\n",
    "\n",
    "    merge_texts = intr_texts + depl_texts\n",
    "    labels = list(np.ones(len(intr_texts))) + list(np.zeros(len(depl_texts)))\n",
    "\n",
    "    import warnings\n",
    "    warnings.filterwarnings('ignore')\n",
    "\n",
    "    tokenizer = Tokenizer()\n",
    "    tokenizer.fit_on_texts(merge_texts)\n",
    "\n",
    "    encoded_docs = tokenizer.texts_to_sequences(merge_texts)\n",
    "    max_length = max([len(s.split()) for s in merge_texts])\n",
    "    X = pad_sequences(encoded_docs, maxlen = max_length, padding = 'post')\n",
    "    predicted_labels = model.predict(X)\n",
    "    cm = confusion_matrix(labels, [np.round(i[0]) for i in predicted_labels])\n",
    "    cm = cm.astype('float') / cm.sum(axis = 1)[:, np.newaxis]\n",
    "    \n",
    "    if(cm[1][1] >= 0.7):\n",
    "        quality_intr.append(k)\n",
    "    if(cm[0][0] >= 0.7):\n",
    "        quality_depl.append(k)\n",
    "    intr_cm.append(cm[1][1])\n",
    "    depl_cm.append(cm[0][0])\n",
    "    print('{}th Couple'.format(k+1), end='\\r' ,flush=True)"
   ]
  },
  {
   "cell_type": "code",
   "execution_count": 12,
   "metadata": {},
   "outputs": [
    {
     "data": {
      "image/png": "[encoded data removed]",
      "text/plain": [
       "<Figure size 720x432 with 1 Axes>"
      ]
     },
     "metadata": {
      "needs_background": "light"
     },
     "output_type": "display_data"
    }
   ],
   "source": [
    "plt.figure(figsize=(10,6))\n",
    "plt.hist(depl_cm, bins = 50, density = True, color = 'grey', alpha=1,label='Depleted')\n",
    "plt.hist(intr_cm, bins = 50, density = True,color = 'red', alpha=0.5, label='Introgressed')\n",
    "plt.legend()\n",
    "plt.show()"
   ]
  },
  {
   "cell_type": "code",
   "execution_count": 13,
   "metadata": {},
   "outputs": [
    {
     "name": "stdout",
     "output_type": "stream",
     "text": [
      "Accuracy Depleted: 60.29970891767441%\n",
      "Accuracy Introgressed: 24.99429572891789%\n"
     ]
    }
   ],
   "source": [
    "accuracy_intr = np.mean(intr_cm)\n",
    "accuracy_depl = np.mean(depl_cm)\n",
    "print('Accuracy Depleted: {}%'.format(accuracy_depl*100))\n",
    "print('Accuracy Introgressed: {}%'.format(accuracy_intr*100))"
   ]
  },
  {
   "cell_type": "code",
   "execution_count": 14,
   "metadata": {},
   "outputs": [
    {
     "data": {
      "image/png": "[encoded data removed]",
      "text/plain": [
       "<Figure size 720x576 with 1 Axes>"
      ]
     },
     "metadata": {
      "needs_background": "light"
     },
     "output_type": "display_data"
    }
   ],
   "source": [
    "plt.figure(figsize=(10,8))\n",
    "plt.scatter(exp_intr, c_intr, color = 'red', label = 'Introgressed', alpha = 0.3)\n",
    "plt.scatter(exp_depl, c_depl, color = 'grey', label = 'Depleted',alpha = 0.3)\n",
    "plt.scatter(exp_intr[quality_intr], \n",
    "            c_intr[quality_intr], color = 'black')\n",
    "#plt.scatter(exp_depl[quality_depl], \n",
    "#            c_depl[quality_depl], color = 'purple')\n",
    "plt.xlabel('Scaling Exponent')\n",
    "plt.ylabel('Correlation Amplitude')\n",
    "plt.legend()\n",
    "plt.show()"
   ]
  },
  {
   "cell_type": "code",
   "execution_count": null,
   "metadata": {},
   "outputs": [],
   "source": []
  }
 ],
 "metadata": {
  "kernelspec": {
   "display_name": "Python 3",
   "language": "python",
   "name": "python3"
  },
  "language_info": {
   "codemirror_mode": {
    "name": "ipython",
    "version": 3
   },
   "file_extension": ".py",
   "mimetype": "text/x-python",
   "name": "python",
   "nbconvert_exporter": "python",
   "pygments_lexer": "ipython3",
   "version": "3.7.6"
  }
 },
 "nbformat": 4,
 "nbformat_minor": 4
}
